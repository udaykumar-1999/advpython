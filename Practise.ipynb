{
 "cells": [
  {
   "cell_type": "code",
   "execution_count": 6,
   "id": "f98d822f",
   "metadata": {},
   "outputs": [
    {
     "name": "stdout",
     "output_type": "stream",
     "text": [
      "hello world\n"
     ]
    }
   ],
   "source": [
    "print(\"hello world\")"
   ]
  },
  {
   "cell_type": "code",
   "execution_count": 7,
   "id": "cf44e31e",
   "metadata": {},
   "outputs": [
    {
     "name": "stdout",
     "output_type": "stream",
     "text": [
      "Help on built-in function print in module builtins:\n",
      "\n",
      "print(...)\n",
      "    print(value, ..., sep=' ', end='\\n', file=sys.stdout, flush=False)\n",
      "    \n",
      "    Prints the values to a stream, or to sys.stdout by default.\n",
      "    Optional keyword arguments:\n",
      "    file:  a file-like object (stream); defaults to the current sys.stdout.\n",
      "    sep:   string inserted between values, default a space.\n",
      "    end:   string appended after the last value, default a newline.\n",
      "    flush: whether to forcibly flush the stream.\n",
      "\n"
     ]
    }
   ],
   "source": [
    "help(print)"
   ]
  },
  {
   "cell_type": "code",
   "execution_count": 8,
   "id": "2186fb99",
   "metadata": {},
   "outputs": [],
   "source": [
    "import math"
   ]
  },
  {
   "cell_type": "code",
   "execution_count": 9,
   "id": "5831e01e",
   "metadata": {},
   "outputs": [
    {
     "data": {
      "text/plain": [
       "1.0"
      ]
     },
     "execution_count": 9,
     "metadata": {},
     "output_type": "execute_result"
    }
   ],
   "source": [
    "math.pow(1,2)"
   ]
  },
  {
   "cell_type": "code",
   "execution_count": 10,
   "id": "3875a34e",
   "metadata": {},
   "outputs": [
    {
     "data": {
      "text/plain": [
       "'PYTHON IS FUN'"
      ]
     },
     "execution_count": 10,
     "metadata": {},
     "output_type": "execute_result"
    }
   ],
   "source": [
    "'python is fun'.swapcase()"
   ]
  },
  {
   "cell_type": "code",
   "execution_count": 11,
   "id": "770e1188",
   "metadata": {},
   "outputs": [
    {
     "data": {
      "text/plain": [
       "'a=11,b=12,c=10'"
      ]
     },
     "execution_count": 11,
     "metadata": {},
     "output_type": "execute_result"
    }
   ],
   "source": [
    "f'a={11},b={12},c={10}'"
   ]
  },
  {
   "cell_type": "code",
   "execution_count": 12,
   "id": "cabdd2bb",
   "metadata": {},
   "outputs": [
    {
     "data": {
      "text/plain": [
       "'python is fun'"
      ]
     },
     "execution_count": 12,
     "metadata": {},
     "output_type": "execute_result"
    }
   ],
   "source": [
    "'      python is fun     '.strip()"
   ]
  },
  {
   "cell_type": "code",
   "execution_count": 187,
   "id": "5beebff2",
   "metadata": {},
   "outputs": [],
   "source": [
    "s = \"python\""
   ]
  },
  {
   "cell_type": "code",
   "execution_count": 14,
   "id": "fcb71693",
   "metadata": {},
   "outputs": [
    {
     "data": {
      "text/plain": [
       "1975296743792"
      ]
     },
     "execution_count": 14,
     "metadata": {},
     "output_type": "execute_result"
    }
   ],
   "source": [
    "id(s)"
   ]
  },
  {
   "cell_type": "code",
   "execution_count": 15,
   "id": "6ad305d1",
   "metadata": {},
   "outputs": [],
   "source": [
    "s = \"c df\""
   ]
  },
  {
   "cell_type": "code",
   "execution_count": 16,
   "id": "b28afba3",
   "metadata": {},
   "outputs": [
    {
     "data": {
      "text/plain": [
       "1975329247152"
      ]
     },
     "execution_count": 16,
     "metadata": {},
     "output_type": "execute_result"
    }
   ],
   "source": [
    "id(s)"
   ]
  },
  {
   "cell_type": "code",
   "execution_count": 17,
   "id": "a5c3bf06",
   "metadata": {},
   "outputs": [
    {
     "data": {
      "text/plain": [
       "'c'"
      ]
     },
     "execution_count": 17,
     "metadata": {},
     "output_type": "execute_result"
    }
   ],
   "source": [
    "s[0]"
   ]
  },
  {
   "cell_type": "code",
   "execution_count": 18,
   "id": "97c92d96",
   "metadata": {},
   "outputs": [
    {
     "ename": "TypeError",
     "evalue": "'str' object does not support item assignment",
     "output_type": "error",
     "traceback": [
      "\u001b[1;31m---------------------------------------------------------------------------\u001b[0m",
      "\u001b[1;31mTypeError\u001b[0m                                 Traceback (most recent call last)",
      "\u001b[1;32mC:\\Users\\UDAYKU~1\\AppData\\Local\\Temp/ipykernel_11308/2411673973.py\u001b[0m in \u001b[0;36m<module>\u001b[1;34m\u001b[0m\n\u001b[1;32m----> 1\u001b[1;33m \u001b[0ms\u001b[0m\u001b[1;33m[\u001b[0m\u001b[1;36m0\u001b[0m\u001b[1;33m]\u001b[0m\u001b[1;33m=\u001b[0m\u001b[1;34m'd'\u001b[0m\u001b[1;33m\u001b[0m\u001b[1;33m\u001b[0m\u001b[0m\n\u001b[0m",
      "\u001b[1;31mTypeError\u001b[0m: 'str' object does not support item assignment"
     ]
    }
   ],
   "source": [
    "s[0]='d'"
   ]
  },
  {
   "cell_type": "code",
   "execution_count": 188,
   "id": "470529f5",
   "metadata": {},
   "outputs": [
    {
     "data": {
      "text/plain": [
       "'yh'"
      ]
     },
     "execution_count": 188,
     "metadata": {},
     "output_type": "execute_result"
    }
   ],
   "source": [
    "s[1:5:2]"
   ]
  },
  {
   "cell_type": "code",
   "execution_count": 189,
   "id": "05b7999a",
   "metadata": {},
   "outputs": [],
   "source": [
    "s= \"python\""
   ]
  },
  {
   "cell_type": "code",
   "execution_count": 190,
   "id": "0c65eb26",
   "metadata": {},
   "outputs": [
    {
     "data": {
      "text/plain": [
       "'yh'"
      ]
     },
     "execution_count": 190,
     "metadata": {},
     "output_type": "execute_result"
    }
   ],
   "source": [
    "s[1:5:2]"
   ]
  },
  {
   "cell_type": "code",
   "execution_count": 191,
   "id": "8358b7b5",
   "metadata": {},
   "outputs": [
    {
     "data": {
      "text/plain": [
       "6"
      ]
     },
     "execution_count": 191,
     "metadata": {},
     "output_type": "execute_result"
    }
   ],
   "source": [
    "len(s)"
   ]
  },
  {
   "cell_type": "code",
   "execution_count": 192,
   "id": "f3912185",
   "metadata": {},
   "outputs": [],
   "source": [
    "s= \"malayalam\""
   ]
  },
  {
   "cell_type": "code",
   "execution_count": 193,
   "id": "16e18637",
   "metadata": {},
   "outputs": [
    {
     "data": {
      "text/plain": [
       "True"
      ]
     },
     "execution_count": 193,
     "metadata": {},
     "output_type": "execute_result"
    }
   ],
   "source": [
    "s == s[::-1]"
   ]
  },
  {
   "cell_type": "code",
   "execution_count": 194,
   "id": "786e0713",
   "metadata": {},
   "outputs": [
    {
     "data": {
      "text/plain": [
       "'m'"
      ]
     },
     "execution_count": 194,
     "metadata": {},
     "output_type": "execute_result"
    }
   ],
   "source": [
    "s[-1:]"
   ]
  },
  {
   "cell_type": "code",
   "execution_count": 195,
   "id": "58b02bcc",
   "metadata": {},
   "outputs": [
    {
     "data": {
      "text/plain": [
       "'malayalam'"
      ]
     },
     "execution_count": 195,
     "metadata": {},
     "output_type": "execute_result"
    }
   ],
   "source": [
    "s[-1: :-1]"
   ]
  },
  {
   "cell_type": "code",
   "execution_count": 196,
   "id": "c2136183",
   "metadata": {},
   "outputs": [
    {
     "data": {
      "text/plain": [
       "['abc', 'er']"
      ]
     },
     "execution_count": 196,
     "metadata": {},
     "output_type": "execute_result"
    }
   ],
   "source": [
    "s = \"abc@er\"\n",
    "s.split(\"@\")"
   ]
  },
  {
   "cell_type": "code",
   "execution_count": 197,
   "id": "90125425",
   "metadata": {},
   "outputs": [
    {
     "data": {
      "text/plain": [
       "'ha ya'"
      ]
     },
     "execution_count": 197,
     "metadata": {},
     "output_type": "execute_result"
    }
   ],
   "source": [
    "' '.join([\"ha\",\"ya\"])"
   ]
  },
  {
   "cell_type": "code",
   "execution_count": 198,
   "id": "94b79926",
   "metadata": {},
   "outputs": [
    {
     "name": "stdout",
     "output_type": "stream",
     "text": [
      "day1\n"
     ]
    }
   ],
   "source": [
    "day = 'mon'\n",
    "if day == 'mon':\n",
    "    print(\"day1\")\n",
    "else:\n",
    "    print(day)"
   ]
  },
  {
   "cell_type": "code",
   "execution_count": 199,
   "id": "2435701c",
   "metadata": {},
   "outputs": [
    {
     "name": "stdout",
     "output_type": "stream",
     "text": [
      "hello\n"
     ]
    }
   ],
   "source": [
    "print(\"hello\",end=\"\\n\")"
   ]
  },
  {
   "cell_type": "code",
   "execution_count": 200,
   "id": "b0461ea2",
   "metadata": {},
   "outputs": [
    {
     "name": "stdout",
     "output_type": "stream",
     "text": [
      "hello\n"
     ]
    }
   ],
   "source": [
    "print(\"hello\",sep=\" \")"
   ]
  },
  {
   "cell_type": "code",
   "execution_count": 201,
   "id": "b5899cd6",
   "metadata": {},
   "outputs": [
    {
     "name": "stdout",
     "output_type": "stream",
     "text": [
      "enter number8\n",
      "40320\n"
     ]
    }
   ],
   "source": [
    "n = int(input(\"enter number\"))\n",
    "res = 1\n",
    "i=1\n",
    "while(i<=n):\n",
    "    res*=i\n",
    "    i+=1\n",
    "print(res)"
   ]
  },
  {
   "cell_type": "code",
   "execution_count": 202,
   "id": "457e093f",
   "metadata": {
    "collapsed": true
   },
   "outputs": [
    {
     "data": {
      "text/plain": [
       "['__add__',\n",
       " '__class__',\n",
       " '__class_getitem__',\n",
       " '__contains__',\n",
       " '__delattr__',\n",
       " '__delitem__',\n",
       " '__dir__',\n",
       " '__doc__',\n",
       " '__eq__',\n",
       " '__format__',\n",
       " '__ge__',\n",
       " '__getattribute__',\n",
       " '__getitem__',\n",
       " '__gt__',\n",
       " '__hash__',\n",
       " '__iadd__',\n",
       " '__imul__',\n",
       " '__init__',\n",
       " '__init_subclass__',\n",
       " '__iter__',\n",
       " '__le__',\n",
       " '__len__',\n",
       " '__lt__',\n",
       " '__mul__',\n",
       " '__ne__',\n",
       " '__new__',\n",
       " '__reduce__',\n",
       " '__reduce_ex__',\n",
       " '__repr__',\n",
       " '__reversed__',\n",
       " '__rmul__',\n",
       " '__setattr__',\n",
       " '__setitem__',\n",
       " '__sizeof__',\n",
       " '__str__',\n",
       " '__subclasshook__',\n",
       " 'append',\n",
       " 'clear',\n",
       " 'copy',\n",
       " 'count',\n",
       " 'extend',\n",
       " 'index',\n",
       " 'insert',\n",
       " 'pop',\n",
       " 'remove',\n",
       " 'reverse',\n",
       " 'sort']"
      ]
     },
     "execution_count": 202,
     "metadata": {},
     "output_type": "execute_result"
    }
   ],
   "source": [
    "dir(list)"
   ]
  },
  {
   "cell_type": "code",
   "execution_count": 203,
   "id": "21b2eb24",
   "metadata": {
    "collapsed": true
   },
   "outputs": [
    {
     "data": {
      "text/plain": [
       "['__add__',\n",
       " '__class__',\n",
       " '__contains__',\n",
       " '__delattr__',\n",
       " '__dir__',\n",
       " '__doc__',\n",
       " '__eq__',\n",
       " '__format__',\n",
       " '__ge__',\n",
       " '__getattribute__',\n",
       " '__getitem__',\n",
       " '__getnewargs__',\n",
       " '__gt__',\n",
       " '__hash__',\n",
       " '__init__',\n",
       " '__init_subclass__',\n",
       " '__iter__',\n",
       " '__le__',\n",
       " '__len__',\n",
       " '__lt__',\n",
       " '__mod__',\n",
       " '__mul__',\n",
       " '__ne__',\n",
       " '__new__',\n",
       " '__reduce__',\n",
       " '__reduce_ex__',\n",
       " '__repr__',\n",
       " '__rmod__',\n",
       " '__rmul__',\n",
       " '__setattr__',\n",
       " '__sizeof__',\n",
       " '__str__',\n",
       " '__subclasshook__',\n",
       " 'capitalize',\n",
       " 'casefold',\n",
       " 'center',\n",
       " 'count',\n",
       " 'encode',\n",
       " 'endswith',\n",
       " 'expandtabs',\n",
       " 'find',\n",
       " 'format',\n",
       " 'format_map',\n",
       " 'index',\n",
       " 'isalnum',\n",
       " 'isalpha',\n",
       " 'isascii',\n",
       " 'isdecimal',\n",
       " 'isdigit',\n",
       " 'isidentifier',\n",
       " 'islower',\n",
       " 'isnumeric',\n",
       " 'isprintable',\n",
       " 'isspace',\n",
       " 'istitle',\n",
       " 'isupper',\n",
       " 'join',\n",
       " 'ljust',\n",
       " 'lower',\n",
       " 'lstrip',\n",
       " 'maketrans',\n",
       " 'partition',\n",
       " 'removeprefix',\n",
       " 'removesuffix',\n",
       " 'replace',\n",
       " 'rfind',\n",
       " 'rindex',\n",
       " 'rjust',\n",
       " 'rpartition',\n",
       " 'rsplit',\n",
       " 'rstrip',\n",
       " 'split',\n",
       " 'splitlines',\n",
       " 'startswith',\n",
       " 'strip',\n",
       " 'swapcase',\n",
       " 'title',\n",
       " 'translate',\n",
       " 'upper',\n",
       " 'zfill']"
      ]
     },
     "execution_count": 203,
     "metadata": {},
     "output_type": "execute_result"
    }
   ],
   "source": [
    "dir(str)"
   ]
  },
  {
   "cell_type": "code",
   "execution_count": 204,
   "id": "8f6e0313",
   "metadata": {},
   "outputs": [
    {
     "name": "stdout",
     "output_type": "stream",
     "text": [
      "val 1\n",
      "val 2\n",
      "val 3\n",
      "val 4\n",
      "10\n"
     ]
    }
   ],
   "source": [
    "lst = [1,2,3,'a','b',4]\n",
    "s=0\n",
    "for ele in lst:\n",
    "    if isinstance(ele, int) or isinstance(ele, float):\n",
    "        print(\"val\", ele)\n",
    "        s+=ele\n",
    "print(s)"
   ]
  },
  {
   "cell_type": "code",
   "execution_count": 205,
   "id": "c860edad",
   "metadata": {},
   "outputs": [],
   "source": [
    "lst_1 = list(range(30,50,2))"
   ]
  },
  {
   "cell_type": "code",
   "execution_count": 206,
   "id": "b58d8062",
   "metadata": {},
   "outputs": [
    {
     "data": {
      "text/plain": [
       "[30, 32, 34, 36, 38, 40, 42, 44, 46, 48]"
      ]
     },
     "execution_count": 206,
     "metadata": {},
     "output_type": "execute_result"
    }
   ],
   "source": [
    "lst_1"
   ]
  },
  {
   "cell_type": "code",
   "execution_count": 207,
   "id": "590f6cce",
   "metadata": {},
   "outputs": [
    {
     "data": {
      "text/plain": [
       "dict"
      ]
     },
     "execution_count": 207,
     "metadata": {},
     "output_type": "execute_result"
    }
   ],
   "source": [
    "a = {}\n",
    "type(a)"
   ]
  },
  {
   "cell_type": "code",
   "execution_count": 208,
   "id": "b401932a",
   "metadata": {},
   "outputs": [
    {
     "data": {
      "text/plain": [
       "set"
      ]
     },
     "execution_count": 208,
     "metadata": {},
     "output_type": "execute_result"
    }
   ],
   "source": [
    "a={1,}\n",
    "type(a)"
   ]
  },
  {
   "cell_type": "code",
   "execution_count": 209,
   "id": "eeacaa56",
   "metadata": {},
   "outputs": [],
   "source": [
    "my_dict = {}\n",
    "my_dict['one'] = 1\n",
    "my_dict['two'] = 2\n",
    "my_dict['three'] = 3"
   ]
  },
  {
   "cell_type": "code",
   "execution_count": 210,
   "id": "baaf185e",
   "metadata": {},
   "outputs": [
    {
     "data": {
      "text/plain": [
       "{'one': 1, 'two': 2, 'three': 3}"
      ]
     },
     "execution_count": 210,
     "metadata": {},
     "output_type": "execute_result"
    }
   ],
   "source": [
    "my_dict"
   ]
  },
  {
   "cell_type": "code",
   "execution_count": 211,
   "id": "91ed5992",
   "metadata": {},
   "outputs": [
    {
     "data": {
      "text/plain": [
       "dict_keys(['one', 'two', 'three'])"
      ]
     },
     "execution_count": 211,
     "metadata": {},
     "output_type": "execute_result"
    }
   ],
   "source": [
    "my_dict.keys()\n"
   ]
  },
  {
   "cell_type": "code",
   "execution_count": 212,
   "id": "f890e29f",
   "metadata": {},
   "outputs": [
    {
     "data": {
      "text/plain": [
       "dict_values([1, 2, 3])"
      ]
     },
     "execution_count": 212,
     "metadata": {},
     "output_type": "execute_result"
    }
   ],
   "source": [
    "my_dict.values()"
   ]
  },
  {
   "cell_type": "code",
   "execution_count": 213,
   "id": "a9cb1e47",
   "metadata": {},
   "outputs": [
    {
     "data": {
      "text/plain": [
       "dict_items([('one', 1), ('two', 2), ('three', 3)])"
      ]
     },
     "execution_count": 213,
     "metadata": {},
     "output_type": "execute_result"
    }
   ],
   "source": [
    "my_dict.items()"
   ]
  },
  {
   "cell_type": "code",
   "execution_count": 214,
   "id": "ee49022c",
   "metadata": {},
   "outputs": [
    {
     "data": {
      "text/plain": [
       "[1, 2, 3]"
      ]
     },
     "execution_count": 214,
     "metadata": {},
     "output_type": "execute_result"
    }
   ],
   "source": [
    "d = {'a':100, 'b':20, 'c':30, 'e':20, 'k':{'x':10}, 'v':[1,2,3]}\n",
    "d['v']"
   ]
  },
  {
   "cell_type": "code",
   "execution_count": 215,
   "id": "0dcab7cd",
   "metadata": {},
   "outputs": [
    {
     "data": {
      "text/plain": [
       "10"
      ]
     },
     "execution_count": 215,
     "metadata": {},
     "output_type": "execute_result"
    }
   ],
   "source": [
    "d['k']['x']"
   ]
  },
  {
   "cell_type": "code",
   "execution_count": 216,
   "id": "4e0b4dba",
   "metadata": {},
   "outputs": [
    {
     "name": "stdout",
     "output_type": "stream",
     "text": [
      "val 1\n",
      "val 2\n",
      "val 3\n",
      "val 54\n",
      "val 6\n"
     ]
    }
   ],
   "source": [
    "tp=(1,2,3,54,6,'john','jin')\n",
    "\n",
    "for ele in tp:\n",
    "    if isinstance(ele, int) or isinstance(ele, tuple):\n",
    "        print(\"val\", ele)"
   ]
  },
  {
   "cell_type": "code",
   "execution_count": 217,
   "id": "fb6cd93b",
   "metadata": {},
   "outputs": [
    {
     "data": {
      "text/plain": [
       "False"
      ]
     },
     "execution_count": 217,
     "metadata": {},
     "output_type": "execute_result"
    }
   ],
   "source": [
    "\"abcdef\".isupper()"
   ]
  },
  {
   "cell_type": "code",
   "execution_count": 218,
   "id": "4fc3440b",
   "metadata": {},
   "outputs": [
    {
     "name": "stdout",
     "output_type": "stream",
     "text": [
      "0.5714025946899135\n"
     ]
    }
   ],
   "source": [
    "import random\n",
    "\n",
    "random.seed(10)\n",
    "print(random.random())"
   ]
  },
  {
   "cell_type": "code",
   "execution_count": 235,
   "id": "bfb8ee8f",
   "metadata": {},
   "outputs": [
    {
     "name": "stdout",
     "output_type": "stream",
     "text": [
      "1.Create Employee records\n",
      "2.Update the employee detail\n",
      "3.Delete employee record\n",
      "4.Display\n",
      "5.Exit\n",
      "Enter your choice: 1\n",
      "Enter the emp name: uday\n",
      "Enter the emp id: 101\n",
      "Enter the phn number: 45678\n",
      "Technologies[comma seperated eg: C, Python, Java]: c,c++,java,python\n",
      "1.Create Employee records\n",
      "2.Update the employee detail\n",
      "3.Delete employee record\n",
      "4.Display\n",
      "5.Exit\n",
      "Enter your choice: 4\n",
      "{101: {'name': 'uday', 'phone': '45678', 'tech': ['c', 'c++', 'java', 'python']}}\n",
      "1.Create Employee records\n",
      "2.Update the employee detail\n",
      "3.Delete employee record\n",
      "4.Display\n",
      "5.Exit\n",
      "Enter your choice: 5\n"
     ]
    }
   ],
   "source": [
    "emp_info = {}\n",
    "\n",
    "while True:\n",
    "    print(\"1.Create Employee records\")\n",
    "    print(\"2.Update the employee detail\")\n",
    "    print(\"3.Delete employee record\")\n",
    "    print(\"4.Display\")\n",
    "    print(\"5.Exit\")\n",
    "    ch = int(input(\"Enter your choice: \"))\n",
    "    if ch == 1:\n",
    "        name = input(\"Enter the emp name: \")\n",
    "        emp_id = int(input(\"Enter the emp id: \"))\n",
    "        ph = input(\"Enter the phn number: \")\n",
    "        tech = input(\"Technologies[comma seperated eg: C, Python, Java]: \")\n",
    "        emp_info[emp_id] = {\"name\":name, \"phone\":ph, \"tech\":tech.split(',')}\n",
    "    elif ch == 2:\n",
    "        who = int(input(\"whose details u want to update ?, Plz enter emp_id: \"))\n",
    "        rec = emp_info[who]\n",
    "        for field, val in rec.items():\n",
    "            new = input(\"{}({})\".format(field,val))\n",
    "            emp_info[who][field] = val if new =='' else new\n",
    "    elif ch == 3:\n",
    "        who = int(input(\"Enter emp_id to delete: \"))\n",
    "        if who in emp_info:\n",
    "            del emp_info[who]\n",
    "        else:\n",
    "            print(\"Record not present\")\n",
    "    elif ch == 4:\n",
    "        print(emp_info)\n",
    "    else:\n",
    "        break"
   ]
  },
  {
   "cell_type": "code",
   "execution_count": 219,
   "id": "1ecb91fa",
   "metadata": {},
   "outputs": [
    {
     "name": "stdout",
     "output_type": "stream",
     "text": [
      "0\n",
      "1\n",
      "2\n",
      "3\n",
      "4\n",
      "5\n",
      "6\n",
      "7\n",
      "8\n",
      "9\n"
     ]
    }
   ],
   "source": [
    "for i in range(10):\n",
    "    print(i)"
   ]
  },
  {
   "cell_type": "code",
   "execution_count": 220,
   "id": "25a02b86",
   "metadata": {},
   "outputs": [
    {
     "data": {
      "text/plain": [
       "[0, 1, 2, 3, 4, 5, 6, 7, 8, 9]"
      ]
     },
     "execution_count": 220,
     "metadata": {},
     "output_type": "execute_result"
    }
   ],
   "source": [
    "[x for x in range(10)]"
   ]
  },
  {
   "cell_type": "code",
   "execution_count": 221,
   "id": "e346dd5c",
   "metadata": {},
   "outputs": [
    {
     "data": {
      "text/plain": [
       "[0, 2, 4, 6, 8]"
      ]
     },
     "execution_count": 221,
     "metadata": {},
     "output_type": "execute_result"
    }
   ],
   "source": [
    "[x for x in range(10) if x%2==0]"
   ]
  },
  {
   "cell_type": "code",
   "execution_count": 222,
   "id": "3c8455b5",
   "metadata": {},
   "outputs": [
    {
     "name": "stdout",
     "output_type": "stream",
     "text": [
      "enter a index to square3\n",
      "64\n"
     ]
    }
   ],
   "source": [
    "n = [1,2,3,4,5,6,7,8]\n",
    "\n",
    "num = int(input(\"enter a index to square\"))\n",
    "squares = []\n",
    "for num in n:\n",
    "    squares.append(num**2)\n",
    "idx_pos = n.index(num)\n",
    "print(squares[idx_pos])"
   ]
  },
  {
   "cell_type": "code",
   "execution_count": 223,
   "id": "6a481084",
   "metadata": {},
   "outputs": [
    {
     "name": "stdout",
     "output_type": "stream",
     "text": [
      "enter index to square4\n",
      "16\n"
     ]
    }
   ],
   "source": [
    "num = int(input(\"enter index to square\"))\n",
    "sq = [num**2 for num in n]\n",
    "idx_pos = n.index(num)\n",
    "print(sq[idx_pos])"
   ]
  },
  {
   "cell_type": "code",
   "execution_count": 224,
   "id": "a99356b5",
   "metadata": {},
   "outputs": [
    {
     "data": {
      "text/plain": [
       "{1: 1, 2: 4, 3: 9, 4: 16, 5: 25}"
      ]
     },
     "execution_count": 224,
     "metadata": {},
     "output_type": "execute_result"
    }
   ],
   "source": [
    "{k:k**2 for k in range(1,6)}"
   ]
  },
  {
   "cell_type": "code",
   "execution_count": 225,
   "id": "eea54e1b",
   "metadata": {},
   "outputs": [
    {
     "data": {
      "text/plain": [
       "{0: 45, 1: 77, 2: 101, 3: 'data', 4: ['jon', 'joy']}"
      ]
     },
     "execution_count": 225,
     "metadata": {},
     "output_type": "execute_result"
    }
   ],
   "source": [
    "tp = (45, 77, 101, 'data', ['jon', 'joy'])\n",
    "\n",
    "{k:tp[k] for k in range(len(tp))}"
   ]
  },
  {
   "cell_type": "code",
   "execution_count": 226,
   "id": "39ba61a3",
   "metadata": {},
   "outputs": [
    {
     "data": {
      "text/plain": [
       "{0: 45, 1: 77, 2: 101, 3: 'data', 4: ['jon', 'joy']}"
      ]
     },
     "execution_count": 226,
     "metadata": {},
     "output_type": "execute_result"
    }
   ],
   "source": [
    "{tp.index(v): v for v in tp}"
   ]
  },
  {
   "cell_type": "code",
   "execution_count": 227,
   "id": "0510c684",
   "metadata": {},
   "outputs": [
    {
     "name": "stdout",
     "output_type": "stream",
     "text": [
      "(['jon', 'joy'], 'data', 101, 77, 45)\n"
     ]
    }
   ],
   "source": [
    "print(tp[::-1])"
   ]
  },
  {
   "cell_type": "code",
   "execution_count": 228,
   "id": "1c947082",
   "metadata": {},
   "outputs": [
    {
     "data": {
      "text/plain": [
       "{1, 2, 3, 4, 5, 'jou'}"
      ]
     },
     "execution_count": 228,
     "metadata": {},
     "output_type": "execute_result"
    }
   ],
   "source": [
    "set([1,2,3,4,5,'jou'])"
   ]
  },
  {
   "cell_type": "code",
   "execution_count": 229,
   "id": "7d6e043d",
   "metadata": {},
   "outputs": [
    {
     "data": {
      "text/plain": [
       "{1, 2, 3, 4, 5, 6, 7, 8, 9, 10}"
      ]
     },
     "execution_count": 229,
     "metadata": {},
     "output_type": "execute_result"
    }
   ],
   "source": [
    "s1 = {1,2,3,4,5,7,8}\n",
    "s2 = {5,6,7,8,9,10}\n",
    "\n",
    "s1.union(s2)"
   ]
  },
  {
   "cell_type": "code",
   "execution_count": 230,
   "id": "aebef975",
   "metadata": {},
   "outputs": [
    {
     "data": {
      "text/plain": [
       "{1, 2, 3, 4}"
      ]
     },
     "execution_count": 230,
     "metadata": {},
     "output_type": "execute_result"
    }
   ],
   "source": [
    "s1.difference(s2)"
   ]
  },
  {
   "cell_type": "code",
   "execution_count": 231,
   "id": "900e43b5",
   "metadata": {},
   "outputs": [
    {
     "data": {
      "text/plain": [
       "{5, 7, 8}"
      ]
     },
     "execution_count": 231,
     "metadata": {},
     "output_type": "execute_result"
    }
   ],
   "source": [
    "s1.intersection(s2)"
   ]
  },
  {
   "cell_type": "code",
   "execution_count": 232,
   "id": "ee631a7a",
   "metadata": {},
   "outputs": [
    {
     "data": {
      "text/plain": [
       "{1, 2, 3, 4}"
      ]
     },
     "execution_count": 232,
     "metadata": {},
     "output_type": "execute_result"
    }
   ],
   "source": [
    "s1-s2\n"
   ]
  },
  {
   "cell_type": "code",
   "execution_count": 234,
   "id": "fb9b5a67",
   "metadata": {
    "collapsed": true
   },
   "outputs": [
    {
     "name": "stdout",
     "output_type": "stream",
     "text": [
      "Help on class set in module builtins:\n",
      "\n",
      "class set(object)\n",
      " |  set() -> new empty set object\n",
      " |  set(iterable) -> new set object\n",
      " |  \n",
      " |  Build an unordered collection of unique elements.\n",
      " |  \n",
      " |  Methods defined here:\n",
      " |  \n",
      " |  __and__(self, value, /)\n",
      " |      Return self&value.\n",
      " |  \n",
      " |  __contains__(...)\n",
      " |      x.__contains__(y) <==> y in x.\n",
      " |  \n",
      " |  __eq__(self, value, /)\n",
      " |      Return self==value.\n",
      " |  \n",
      " |  __ge__(self, value, /)\n",
      " |      Return self>=value.\n",
      " |  \n",
      " |  __getattribute__(self, name, /)\n",
      " |      Return getattr(self, name).\n",
      " |  \n",
      " |  __gt__(self, value, /)\n",
      " |      Return self>value.\n",
      " |  \n",
      " |  __iand__(self, value, /)\n",
      " |      Return self&=value.\n",
      " |  \n",
      " |  __init__(self, /, *args, **kwargs)\n",
      " |      Initialize self.  See help(type(self)) for accurate signature.\n",
      " |  \n",
      " |  __ior__(self, value, /)\n",
      " |      Return self|=value.\n",
      " |  \n",
      " |  __isub__(self, value, /)\n",
      " |      Return self-=value.\n",
      " |  \n",
      " |  __iter__(self, /)\n",
      " |      Implement iter(self).\n",
      " |  \n",
      " |  __ixor__(self, value, /)\n",
      " |      Return self^=value.\n",
      " |  \n",
      " |  __le__(self, value, /)\n",
      " |      Return self<=value.\n",
      " |  \n",
      " |  __len__(self, /)\n",
      " |      Return len(self).\n",
      " |  \n",
      " |  __lt__(self, value, /)\n",
      " |      Return self<value.\n",
      " |  \n",
      " |  __ne__(self, value, /)\n",
      " |      Return self!=value.\n",
      " |  \n",
      " |  __or__(self, value, /)\n",
      " |      Return self|value.\n",
      " |  \n",
      " |  __rand__(self, value, /)\n",
      " |      Return value&self.\n",
      " |  \n",
      " |  __reduce__(...)\n",
      " |      Return state information for pickling.\n",
      " |  \n",
      " |  __repr__(self, /)\n",
      " |      Return repr(self).\n",
      " |  \n",
      " |  __ror__(self, value, /)\n",
      " |      Return value|self.\n",
      " |  \n",
      " |  __rsub__(self, value, /)\n",
      " |      Return value-self.\n",
      " |  \n",
      " |  __rxor__(self, value, /)\n",
      " |      Return value^self.\n",
      " |  \n",
      " |  __sizeof__(...)\n",
      " |      S.__sizeof__() -> size of S in memory, in bytes\n",
      " |  \n",
      " |  __sub__(self, value, /)\n",
      " |      Return self-value.\n",
      " |  \n",
      " |  __xor__(self, value, /)\n",
      " |      Return self^value.\n",
      " |  \n",
      " |  add(...)\n",
      " |      Add an element to a set.\n",
      " |      \n",
      " |      This has no effect if the element is already present.\n",
      " |  \n",
      " |  clear(...)\n",
      " |      Remove all elements from this set.\n",
      " |  \n",
      " |  copy(...)\n",
      " |      Return a shallow copy of a set.\n",
      " |  \n",
      " |  difference(...)\n",
      " |      Return the difference of two or more sets as a new set.\n",
      " |      \n",
      " |      (i.e. all elements that are in this set but not the others.)\n",
      " |  \n",
      " |  difference_update(...)\n",
      " |      Remove all elements of another set from this set.\n",
      " |  \n",
      " |  discard(...)\n",
      " |      Remove an element from a set if it is a member.\n",
      " |      \n",
      " |      If the element is not a member, do nothing.\n",
      " |  \n",
      " |  intersection(...)\n",
      " |      Return the intersection of two sets as a new set.\n",
      " |      \n",
      " |      (i.e. all elements that are in both sets.)\n",
      " |  \n",
      " |  intersection_update(...)\n",
      " |      Update a set with the intersection of itself and another.\n",
      " |  \n",
      " |  isdisjoint(...)\n",
      " |      Return True if two sets have a null intersection.\n",
      " |  \n",
      " |  issubset(...)\n",
      " |      Report whether another set contains this set.\n",
      " |  \n",
      " |  issuperset(...)\n",
      " |      Report whether this set contains another set.\n",
      " |  \n",
      " |  pop(...)\n",
      " |      Remove and return an arbitrary set element.\n",
      " |      Raises KeyError if the set is empty.\n",
      " |  \n",
      " |  remove(...)\n",
      " |      Remove an element from a set; it must be a member.\n",
      " |      \n",
      " |      If the element is not a member, raise a KeyError.\n",
      " |  \n",
      " |  symmetric_difference(...)\n",
      " |      Return the symmetric difference of two sets as a new set.\n",
      " |      \n",
      " |      (i.e. all elements that are in exactly one of the sets.)\n",
      " |  \n",
      " |  symmetric_difference_update(...)\n",
      " |      Update a set with the symmetric difference of itself and another.\n",
      " |  \n",
      " |  union(...)\n",
      " |      Return the union of sets as a new set.\n",
      " |      \n",
      " |      (i.e. all elements that are in either set.)\n",
      " |  \n",
      " |  update(...)\n",
      " |      Update a set with the union of itself and others.\n",
      " |  \n",
      " |  ----------------------------------------------------------------------\n",
      " |  Class methods defined here:\n",
      " |  \n",
      " |  __class_getitem__(...) from builtins.type\n",
      " |      See PEP 585\n",
      " |  \n",
      " |  ----------------------------------------------------------------------\n",
      " |  Static methods defined here:\n",
      " |  \n",
      " |  __new__(*args, **kwargs) from builtins.type\n",
      " |      Create and return a new object.  See help(type) for accurate signature.\n",
      " |  \n",
      " |  ----------------------------------------------------------------------\n",
      " |  Data and other attributes defined here:\n",
      " |  \n",
      " |  __hash__ = None\n",
      "\n"
     ]
    }
   ],
   "source": [
    "help(set)"
   ]
  },
  {
   "cell_type": "code",
   "execution_count": 233,
   "id": "941ae8e9",
   "metadata": {},
   "outputs": [],
   "source": [
    "# clear dictionary\n",
    "s1.clear()"
   ]
  },
  {
   "cell_type": "code",
   "execution_count": 177,
   "id": "5ddf4a64",
   "metadata": {},
   "outputs": [
    {
     "data": {
      "text/plain": [
       "'hello uday'"
      ]
     },
     "execution_count": 177,
     "metadata": {},
     "output_type": "execute_result"
    }
   ],
   "source": [
    "def greeting(user):\n",
    "    \"\"\"\n",
    "    just greet people\n",
    "    \"\"\"\n",
    "    return f\"hello {user}\"\n",
    "greeting('uday')"
   ]
  },
  {
   "cell_type": "code",
   "execution_count": 178,
   "id": "318e9ca1",
   "metadata": {},
   "outputs": [
    {
     "name": "stdout",
     "output_type": "stream",
     "text": [
      "Help on function greeting in module __main__:\n",
      "\n",
      "greeting(user)\n",
      "    just greet people\n",
      "\n"
     ]
    }
   ],
   "source": [
    "help(greeting)"
   ]
  },
  {
   "cell_type": "code",
   "execution_count": 179,
   "id": "5fa67dd9",
   "metadata": {},
   "outputs": [],
   "source": [
    "#first positional then default parameters\n",
    "def greeting(name,age,phn=1234,place='wgl'):\n",
    "    print(f'name:{name},age:{age},ph:{phn},place:{place}')"
   ]
  },
  {
   "cell_type": "code",
   "execution_count": 180,
   "id": "c5b14edb",
   "metadata": {},
   "outputs": [
    {
     "name": "stdout",
     "output_type": "stream",
     "text": [
      "name:uday,age:22,ph:1234,place:wgl\n"
     ]
    }
   ],
   "source": [
    "greeting('uday', 22)"
   ]
  },
  {
   "cell_type": "code",
   "execution_count": 181,
   "id": "7e513d66",
   "metadata": {},
   "outputs": [
    {
     "name": "stdout",
     "output_type": "stream",
     "text": [
      "name:vamsi,age:22,ph:234,place:ap\n"
     ]
    }
   ],
   "source": [
    "greeting('vamsi',22,place=\"ap\",phn=234)"
   ]
  },
  {
   "cell_type": "code",
   "execution_count": 182,
   "id": "11ad1630",
   "metadata": {},
   "outputs": [
    {
     "name": "stdout",
     "output_type": "stream",
     "text": [
      "name:ram,age:22,ph:345,place:hyd\n"
     ]
    }
   ],
   "source": [
    "greeting('ram',22,345,'hyd')"
   ]
  },
  {
   "cell_type": "code",
   "execution_count": 183,
   "id": "9e8772ab",
   "metadata": {},
   "outputs": [],
   "source": [
    "def show(*args, msg=\"default\", err=\"de\"):\n",
    "    print(f'all value args{args}\\nmsg:{msg}\\nerr:{err}')"
   ]
  },
  {
   "cell_type": "code",
   "execution_count": 184,
   "id": "32da8008",
   "metadata": {},
   "outputs": [
    {
     "name": "stdout",
     "output_type": "stream",
     "text": [
      "all value args('ram', 22)\n",
      "msg:hello\n",
      "err:de\n"
     ]
    }
   ],
   "source": [
    "show('ram',22,msg='hello')"
   ]
  },
  {
   "cell_type": "code",
   "execution_count": 185,
   "id": "9e14a3f8",
   "metadata": {},
   "outputs": [],
   "source": [
    "def get_data(name, *args, **kwargs):\n",
    "    print(f'name:{name}\\nargs:{args}\\nkwargs:{kwargs}')"
   ]
  },
  {
   "cell_type": "code",
   "execution_count": 186,
   "id": "f741a768",
   "metadata": {},
   "outputs": [
    {
     "name": "stdout",
     "output_type": "stream",
     "text": [
      "name:ram\n",
      "args:(9000, 'IT')\n",
      "kwargs:{'phone': '1223', 'location': 'pune'}\n"
     ]
    }
   ],
   "source": [
    "get_data('ram',9000,\"IT\",phone=\"1223\",location=\"pune\")"
   ]
  },
  {
   "cell_type": "code",
   "execution_count": 174,
   "id": "00f5a5b1",
   "metadata": {},
   "outputs": [
    {
     "name": "stdout",
     "output_type": "stream",
     "text": [
      "enter number:10\n",
      "1\n",
      "2\n",
      "3\n",
      "4\n",
      "5\n",
      "6\n",
      "7\n",
      "8\n",
      "9\n",
      "10\n"
     ]
    }
   ],
   "source": [
    "n = int(input(\"enter number:\"))\n",
    "for i in range(1,n+1):\n",
    "    print(i)"
   ]
  },
  {
   "cell_type": "code",
   "execution_count": 173,
   "id": "5d2ecdb2",
   "metadata": {},
   "outputs": [
    {
     "name": "stdout",
     "output_type": "stream",
     "text": [
      "enter number:3\n",
      "1\n",
      "2\n",
      "3\n"
     ]
    }
   ],
   "source": [
    "n = int(input(\"enter number:\"))\n",
    "\n",
    "def show(n):\n",
    "    for i in range(1,n+1):\n",
    "        print(i)\n",
    "    \n",
    "show(n)"
   ]
  },
  {
   "cell_type": "code",
   "execution_count": 172,
   "id": "5e70019b",
   "metadata": {
    "scrolled": true
   },
   "outputs": [
    {
     "data": {
      "text/plain": [
       "4"
      ]
     },
     "execution_count": 172,
     "metadata": {},
     "output_type": "execute_result"
    }
   ],
   "source": [
    "x = lambda x : x**2\n",
    "x(2)"
   ]
  },
  {
   "cell_type": "code",
   "execution_count": 171,
   "id": "2cabddc0",
   "metadata": {},
   "outputs": [
    {
     "data": {
      "text/plain": [
       "[4, 16, 25]"
      ]
     },
     "execution_count": 171,
     "metadata": {},
     "output_type": "execute_result"
    }
   ],
   "source": [
    "def square(n):\n",
    "    return n**2\n",
    "list(map(square, (2,4,5)))"
   ]
  },
  {
   "cell_type": "code",
   "execution_count": 170,
   "id": "9b105a82",
   "metadata": {},
   "outputs": [
    {
     "data": {
      "text/plain": [
       "['PYTHON', 'IS', 'FUN']"
      ]
     },
     "execution_count": 170,
     "metadata": {},
     "output_type": "execute_result"
    }
   ],
   "source": [
    "list(map(str.upper, ['python', 'is', 'fun']))"
   ]
  },
  {
   "cell_type": "code",
   "execution_count": 169,
   "id": "13bc161b",
   "metadata": {},
   "outputs": [
    {
     "name": "stdout",
     "output_type": "stream",
     "text": [
      "inner1 fun\n",
      "inner2 fun\n",
      "inner1 fun\n",
      "inner2 fun\n"
     ]
    }
   ],
   "source": [
    "def outer():\n",
    "    def inner1():\n",
    "        print(\"inner1 fun\")\n",
    "    def inner2():\n",
    "        print(\"inner2 fun\")\n",
    "    inner1()\n",
    "    inner2()\n",
    "    return inner1,inner2\n",
    "p=outer()\n",
    "#print(p)\n",
    "p[0]()\n",
    "p[1]()"
   ]
  },
  {
   "cell_type": "code",
   "execution_count": 164,
   "id": "2d7333f8",
   "metadata": {},
   "outputs": [],
   "source": [
    "def outer(f):\n",
    "    def inner():\n",
    "        result=f()\n",
    "        return result **2\n",
    "    return inner"
   ]
  },
  {
   "cell_type": "code",
   "execution_count": 165,
   "id": "9983fde7",
   "metadata": {},
   "outputs": [],
   "source": [
    "def num():\n",
    "    return 5"
   ]
  },
  {
   "cell_type": "code",
   "execution_count": 166,
   "id": "add80ffe",
   "metadata": {},
   "outputs": [],
   "source": [
    "sq = outer(num)"
   ]
  },
  {
   "cell_type": "code",
   "execution_count": 167,
   "id": "93fbe5ab",
   "metadata": {},
   "outputs": [
    {
     "data": {
      "text/plain": [
       "25"
      ]
     },
     "execution_count": 167,
     "metadata": {},
     "output_type": "execute_result"
    }
   ],
   "source": [
    "sq()"
   ]
  },
  {
   "cell_type": "code",
   "execution_count": 168,
   "id": "232c9294",
   "metadata": {},
   "outputs": [
    {
     "data": {
      "text/plain": [
       "25"
      ]
     },
     "execution_count": 168,
     "metadata": {},
     "output_type": "execute_result"
    }
   ],
   "source": [
    "num = outer(num)\n",
    "num()"
   ]
  },
  {
   "cell_type": "code",
   "execution_count": 160,
   "id": "b5f50e32",
   "metadata": {},
   "outputs": [],
   "source": [
    "def outer(f):\n",
    "    def inner(n1,n2):\n",
    "        result = f(n1,n2)\n",
    "        return result ** 2\n",
    "    return inner\n"
   ]
  },
  {
   "cell_type": "code",
   "execution_count": 161,
   "id": "57f22153",
   "metadata": {},
   "outputs": [],
   "source": [
    "@outer\n",
    "def num(n1,n2):\n",
    "    return n1+n2"
   ]
  },
  {
   "cell_type": "code",
   "execution_count": 162,
   "id": "30d26a36",
   "metadata": {},
   "outputs": [
    {
     "name": "stdout",
     "output_type": "stream",
     "text": [
      "25\n"
     ]
    }
   ],
   "source": [
    "print(num(2,3))"
   ]
  },
  {
   "cell_type": "code",
   "execution_count": 155,
   "id": "f7dca981",
   "metadata": {},
   "outputs": [],
   "source": [
    "def validate(func):\n",
    "    def validator(*args, **kwargs):\n",
    "        if len(args)>1:\n",
    "            if args[1] == 0:\n",
    "                print(\"expecting non zero\")\n",
    "                return None\n",
    "            else:\n",
    "                power = func(args[0],args[1])\n",
    "                return power\n",
    "        else:\n",
    "            print(\"invalid args\")\n",
    "    return validator"
   ]
  },
  {
   "cell_type": "code",
   "execution_count": 156,
   "id": "c2889b7d",
   "metadata": {},
   "outputs": [
    {
     "data": {
      "text/plain": [
       "16.0"
      ]
     },
     "execution_count": 156,
     "metadata": {},
     "output_type": "execute_result"
    }
   ],
   "source": [
    "import math\n",
    "\n",
    "@validate\n",
    "def mypow(x,y):\n",
    "    return math.pow(x,y)\n",
    "\n",
    "mypow(4,2)"
   ]
  },
  {
   "cell_type": "code",
   "execution_count": 157,
   "id": "0dbb9b75",
   "metadata": {},
   "outputs": [
    {
     "name": "stdout",
     "output_type": "stream",
     "text": [
      "expecting non zero\n"
     ]
    }
   ],
   "source": [
    "mypow(4,0)"
   ]
  },
  {
   "cell_type": "code",
   "execution_count": 158,
   "id": "623eaf55",
   "metadata": {},
   "outputs": [
    {
     "name": "stdout",
     "output_type": "stream",
     "text": [
      "expecting non zero\n"
     ]
    }
   ],
   "source": [
    "@validate\n",
    "def mydiv(x,y):\n",
    "    return x/y\n",
    "mydiv(10,0)"
   ]
  },
  {
   "cell_type": "code",
   "execution_count": 159,
   "id": "c8d4ba22",
   "metadata": {},
   "outputs": [
    {
     "data": {
      "text/plain": [
       "5.0"
      ]
     },
     "execution_count": 159,
     "metadata": {},
     "output_type": "execute_result"
    }
   ],
   "source": [
    "mydiv(10,2)"
   ]
  },
  {
   "cell_type": "code",
   "execution_count": 154,
   "id": "118b7293",
   "metadata": {},
   "outputs": [
    {
     "data": {
      "text/plain": [
       "[2, 4, 8]"
      ]
     },
     "execution_count": 154,
     "metadata": {},
     "output_type": "execute_result"
    }
   ],
   "source": [
    "#filter(lambda/func, iterable) -> filters ele based on func\n",
    "lst = [1,2,3,4,5,67,8]\n",
    "\n",
    "list(filter(lambda x : x%2==0, lst))"
   ]
  },
  {
   "cell_type": "code",
   "execution_count": 153,
   "id": "164cd66e",
   "metadata": {},
   "outputs": [
    {
     "data": {
      "text/plain": [
       "[1, 4, 9, 16, 25, 36, 49]"
      ]
     },
     "execution_count": 153,
     "metadata": {},
     "output_type": "execute_result"
    }
   ],
   "source": [
    "#map(lambda/func, iterable) -> maps every ele based on func\n",
    "lst_1 = [1,2,3,4,5,6,7]\n",
    "list(map(lambda x: x**2, lst_1))"
   ]
  },
  {
   "cell_type": "code",
   "execution_count": 151,
   "id": "622c20f9",
   "metadata": {},
   "outputs": [],
   "source": [
    "# general purpose deocrators\n",
    "\n",
    "def picker(func):\n",
    "    def wrapper(*args, **kwargs):\n",
    "        print(\"positional args are\", args)\n",
    "        print(\"keyword args are\", kwargs)\n",
    "        func(*args, **kwargs)\n",
    "    return wrapper\n",
    "\n",
    "\n",
    "\n",
    "@picker # show = picker(show)\n",
    "def show():\n",
    "    print(\"No args here...\")\n",
    " "
   ]
  },
  {
   "cell_type": "code",
   "execution_count": 152,
   "id": "49140a63",
   "metadata": {},
   "outputs": [
    {
     "name": "stdout",
     "output_type": "stream",
     "text": [
      "positional args are ()\n",
      "keyword args are {}\n",
      "No args here...\n"
     ]
    }
   ],
   "source": [
    "show()"
   ]
  },
  {
   "cell_type": "code",
   "execution_count": 148,
   "id": "f19029c1",
   "metadata": {},
   "outputs": [
    {
     "name": "stdout",
     "output_type": "stream",
     "text": [
      "posit args are (10, 20, 30)\n",
      "kywrd args are {}\n",
      "10 20 30\n"
     ]
    }
   ],
   "source": [
    "def picker(func):\n",
    "    def wrapper(*args, **kwargs):\n",
    "        print(\"posit args are\", args)\n",
    "        print(\"kywrd args are\", kwargs)\n",
    "        func(*args, **kwargs)\n",
    "    return wrapper\n",
    "\n",
    "\n",
    "@picker\n",
    "def show(a,b,c):\n",
    "    print(a, b, c)\n",
    "    \n",
    "show(10,20,30)"
   ]
  },
  {
   "cell_type": "code",
   "execution_count": 149,
   "id": "4376998d",
   "metadata": {},
   "outputs": [],
   "source": [
    "@picker\n",
    "def show(*args, **kwargs):\n",
    "    print(f\"args: {args}\\nkwargs:{kwargs}\")"
   ]
  },
  {
   "cell_type": "code",
   "execution_count": 150,
   "id": "7073b76f",
   "metadata": {},
   "outputs": [
    {
     "name": "stdout",
     "output_type": "stream",
     "text": [
      "posit args are (1, 2, 3)\n",
      "kywrd args are {'name': 'uday', 'addr': 'wgl'}\n",
      "args: (1, 2, 3)\n",
      "kwargs:{'name': 'uday', 'addr': 'wgl'}\n"
     ]
    }
   ],
   "source": [
    "show(1,2,3,name=\"uday\", addr=\"wgl\")"
   ]
  },
  {
   "cell_type": "code",
   "execution_count": 146,
   "id": "9ec9a7c1",
   "metadata": {},
   "outputs": [],
   "source": [
    "# passing arg to decorator\n",
    "\n",
    "def deco_with_args(a,b,c):\n",
    "    def picker(func):\n",
    "        def wrapper(*args):\n",
    "            print(\"wrapper can acces all variables\\n\"\n",
    "                  \"\\t from decorator with args:{0} {1} {2}\\n\"\n",
    "                  \"\\t from function call: {3}\\n\"\n",
    "                  .format(a,b,c,args))\n",
    "            return func(*args)\n",
    "        return wrapper\n",
    "    return picker\n",
    "\n",
    "@deco_with_args(\"panda\", \"lion\", \"tiger\")\n",
    "def show(a,b,c):\n",
    "    print(\"this is deorated fun with args {0},{1},{2}\".format(a,b,c))\n"
   ]
  },
  {
   "cell_type": "code",
   "execution_count": 147,
   "id": "b861698e",
   "metadata": {},
   "outputs": [
    {
     "name": "stdout",
     "output_type": "stream",
     "text": [
      "wrapper can acces all variables\n",
      "\t from decorator with args:panda lion tiger\n",
      "\t from function call: ('china', 'africa', 'india')\n",
      "\n",
      "this is deorated fun with args china,africa,india\n"
     ]
    }
   ],
   "source": [
    "show(\"china\", \"africa\", \"india\")"
   ]
  },
  {
   "cell_type": "code",
   "execution_count": 145,
   "id": "87ec7538",
   "metadata": {},
   "outputs": [
    {
     "data": {
      "text/plain": [
       "3"
      ]
     },
     "execution_count": 145,
     "metadata": {},
     "output_type": "execute_result"
    }
   ],
   "source": [
    "def countDigit(n):\n",
    "    count = 0;\n",
    "    while n != 0:\n",
    "        n //= 10\n",
    "        count += 1\n",
    "    return count;\n",
    "\n",
    "countDigit(123)"
   ]
  },
  {
   "cell_type": "code",
   "execution_count": 143,
   "id": "84c9f6c6",
   "metadata": {},
   "outputs": [],
   "source": [
    "# chaining of decorator\n",
    "\n",
    "from functools import wraps\n",
    "# code for testing decorator chaining\n",
    "\n",
    "\n",
    "\n",
    "\n",
    "def decor2(func):\n",
    "    def inner():\n",
    "        x = func()\n",
    "        print(\"x in decor 3rd..\", x)\n",
    "        return x + 100\n",
    "    return inner\n",
    "\n",
    "def decor1(func):\n",
    "    def inner():\n",
    "        x = func()\n",
    "        print(\"x in decor 2nd..\", x)\n",
    "        return x*x\n",
    "    return inner\n",
    "\n",
    "def decor(func):\n",
    "    def inner():\n",
    "        x = func()\n",
    "        print(\"x in decor 1st..\",x)\n",
    "        return 2*x #input for next decor func\n",
    "    return inner\n",
    "\n",
    "@decor2\n",
    "@decor1\n",
    "@decor\n",
    "def num():\n",
    "    return 10"
   ]
  },
  {
   "cell_type": "code",
   "execution_count": 144,
   "id": "bde2e8ef",
   "metadata": {},
   "outputs": [
    {
     "name": "stdout",
     "output_type": "stream",
     "text": [
      "x in decor 1st.. 10\n",
      "x in decor 2nd.. 20\n",
      "x in decor 3rd.. 400\n"
     ]
    },
    {
     "data": {
      "text/plain": [
       "500"
      ]
     },
     "execution_count": 144,
     "metadata": {},
     "output_type": "execute_result"
    }
   ],
   "source": [
    "num()"
   ]
  },
  {
   "cell_type": "code",
   "execution_count": 141,
   "id": "c98b5204",
   "metadata": {},
   "outputs": [
    {
     "name": "stdout",
     "output_type": "stream",
     "text": [
      "hi\n",
      "hello\n"
     ]
    },
    {
     "data": {
      "text/plain": [
       "'hello'"
      ]
     },
     "execution_count": 141,
     "metadata": {},
     "output_type": "execute_result"
    }
   ],
   "source": [
    "def simple_func():\n",
    "    print('hi')\n",
    "    print('hello')\n",
    "    return 'hello'\n",
    "simple_func()"
   ]
  },
  {
   "cell_type": "code",
   "execution_count": 142,
   "id": "692e06e0",
   "metadata": {},
   "outputs": [
    {
     "data": {
      "text/plain": [
       "function"
      ]
     },
     "execution_count": 142,
     "metadata": {},
     "output_type": "execute_result"
    }
   ],
   "source": [
    "type(simple_func)"
   ]
  },
  {
   "cell_type": "code",
   "execution_count": 128,
   "id": "f5988175",
   "metadata": {},
   "outputs": [],
   "source": [
    "def simple_func():\n",
    "    print('hi')\n",
    "    yield 'hello'\n",
    "    x = 10\n",
    "    y = x+5\n",
    "    print(y)\n",
    "    yield 'hello world'\n",
    "    yield x"
   ]
  },
  {
   "cell_type": "code",
   "execution_count": 136,
   "id": "6a76acc4",
   "metadata": {},
   "outputs": [
    {
     "data": {
      "text/plain": [
       "<generator object simple_func at 0x000001CBEAE12DD0>"
      ]
     },
     "execution_count": 136,
     "metadata": {},
     "output_type": "execute_result"
    }
   ],
   "source": [
    "res = simple_func()\n",
    "res"
   ]
  },
  {
   "cell_type": "code",
   "execution_count": 130,
   "id": "28bbbe58",
   "metadata": {},
   "outputs": [
    {
     "data": {
      "text/plain": [
       "112"
      ]
     },
     "execution_count": 130,
     "metadata": {},
     "output_type": "execute_result"
    }
   ],
   "source": [
    "import sys, os\n",
    "sys.getsizeof(res)"
   ]
  },
  {
   "cell_type": "code",
   "execution_count": 131,
   "id": "c4fd6447",
   "metadata": {},
   "outputs": [
    {
     "name": "stdout",
     "output_type": "stream",
     "text": [
      "hi\n",
      "15\n"
     ]
    },
    {
     "data": {
      "text/plain": [
       "['hello', 'hello world', 10]"
      ]
     },
     "execution_count": 131,
     "metadata": {},
     "output_type": "execute_result"
    }
   ],
   "source": [
    "list(res)"
   ]
  },
  {
   "cell_type": "code",
   "execution_count": 135,
   "id": "ce9e56fb",
   "metadata": {},
   "outputs": [
    {
     "name": "stdout",
     "output_type": "stream",
     "text": [
      "hi\n",
      "hello\n",
      "15\n",
      "hello world\n",
      "10\n"
     ]
    }
   ],
   "source": [
    "for val in res:\n",
    "    print(val)"
   ]
  },
  {
   "cell_type": "code",
   "execution_count": 137,
   "id": "9e450935",
   "metadata": {},
   "outputs": [
    {
     "name": "stdout",
     "output_type": "stream",
     "text": [
      "hi\n"
     ]
    },
    {
     "data": {
      "text/plain": [
       "'hello'"
      ]
     },
     "execution_count": 137,
     "metadata": {},
     "output_type": "execute_result"
    }
   ],
   "source": [
    "next(res)"
   ]
  },
  {
   "cell_type": "code",
   "execution_count": 138,
   "id": "8216ca30",
   "metadata": {},
   "outputs": [
    {
     "name": "stdout",
     "output_type": "stream",
     "text": [
      "15\n"
     ]
    },
    {
     "data": {
      "text/plain": [
       "'hello world'"
      ]
     },
     "execution_count": 138,
     "metadata": {},
     "output_type": "execute_result"
    }
   ],
   "source": [
    "next(res)"
   ]
  },
  {
   "cell_type": "code",
   "execution_count": 139,
   "id": "6a28a256",
   "metadata": {},
   "outputs": [
    {
     "data": {
      "text/plain": [
       "10"
      ]
     },
     "execution_count": 139,
     "metadata": {},
     "output_type": "execute_result"
    }
   ],
   "source": [
    "next(res)"
   ]
  },
  {
   "cell_type": "code",
   "execution_count": 140,
   "id": "3761be08",
   "metadata": {},
   "outputs": [
    {
     "ename": "StopIteration",
     "evalue": "",
     "output_type": "error",
     "traceback": [
      "\u001b[1;31m---------------------------------------------------------------------------\u001b[0m",
      "\u001b[1;31mStopIteration\u001b[0m                             Traceback (most recent call last)",
      "\u001b[1;32mC:\\Users\\UDAYKU~1\\AppData\\Local\\Temp/ipykernel_11308/3787657561.py\u001b[0m in \u001b[0;36m<module>\u001b[1;34m\u001b[0m\n\u001b[1;32m----> 1\u001b[1;33m \u001b[0mnext\u001b[0m\u001b[1;33m(\u001b[0m\u001b[0mres\u001b[0m\u001b[1;33m)\u001b[0m\u001b[1;33m\u001b[0m\u001b[1;33m\u001b[0m\u001b[0m\n\u001b[0m",
      "\u001b[1;31mStopIteration\u001b[0m: "
     ]
    }
   ],
   "source": [
    "next(res)"
   ]
  },
  {
   "cell_type": "code",
   "execution_count": 126,
   "id": "5658f025",
   "metadata": {},
   "outputs": [],
   "source": [
    "def fib(n):\n",
    "    numbers = []\n",
    "    first, second = 0,1\n",
    "    while first < n:\n",
    "        numbers.append(first)\n",
    "        first, second = second, first+second\n",
    "    print(numbers)    "
   ]
  },
  {
   "cell_type": "code",
   "execution_count": 127,
   "id": "22470eaa",
   "metadata": {},
   "outputs": [
    {
     "name": "stdout",
     "output_type": "stream",
     "text": [
      "[0, 1, 1, 2, 3, 5, 8, 13, 21, 34, 55, 89, 144, 233, 377, 610, 987, 1597, 2584, 4181, 6765, 10946, 17711, 28657, 46368, 75025, 121393, 196418, 317811, 514229, 832040, 1346269, 2178309, 3524578, 5702887, 9227465, 14930352, 24157817, 39088169, 63245986, 102334155, 165580141, 267914296, 433494437, 701408733, 1134903170, 1836311903, 2971215073, 4807526976, 7778742049, 12586269025, 20365011074, 32951280099, 53316291173, 86267571272, 139583862445, 225851433717, 365435296162, 591286729879, 956722026041, 1548008755920, 2504730781961, 4052739537881, 6557470319842, 10610209857723, 17167680177565, 27777890035288, 44945570212853, 72723460248141]\n"
     ]
    }
   ],
   "source": [
    "fib(100000000000000)"
   ]
  },
  {
   "cell_type": "code",
   "execution_count": 119,
   "id": "45f45fae",
   "metadata": {},
   "outputs": [],
   "source": [
    "def fib(n):\n",
    "    first, second = 0,1\n",
    "    while first < n:\n",
    "        yield first\n",
    "        first, second = second, first+second"
   ]
  },
  {
   "cell_type": "code",
   "execution_count": 123,
   "id": "3e6a94be",
   "metadata": {},
   "outputs": [
    {
     "data": {
      "text/plain": [
       "<generator object fib at 0x000001CBEAE125F0>"
      ]
     },
     "execution_count": 123,
     "metadata": {},
     "output_type": "execute_result"
    }
   ],
   "source": [
    "res = fib(50)\n",
    "res"
   ]
  },
  {
   "cell_type": "code",
   "execution_count": 121,
   "id": "ac729d1c",
   "metadata": {},
   "outputs": [
    {
     "name": "stdout",
     "output_type": "stream",
     "text": [
      "0\n",
      "1\n",
      "1\n",
      "2\n",
      "3\n",
      "5\n",
      "8\n",
      "13\n",
      "21\n",
      "34\n"
     ]
    }
   ],
   "source": [
    "for i in res:\n",
    "    print(i)"
   ]
  },
  {
   "cell_type": "code",
   "execution_count": 124,
   "id": "70db99b5",
   "metadata": {},
   "outputs": [
    {
     "data": {
      "text/plain": [
       "0"
      ]
     },
     "execution_count": 124,
     "metadata": {},
     "output_type": "execute_result"
    }
   ],
   "source": [
    "next(res)"
   ]
  },
  {
   "cell_type": "code",
   "execution_count": 125,
   "id": "9e76054e",
   "metadata": {},
   "outputs": [
    {
     "data": {
      "text/plain": [
       "1"
      ]
     },
     "execution_count": 125,
     "metadata": {},
     "output_type": "execute_result"
    }
   ],
   "source": [
    "next(res)"
   ]
  },
  {
   "cell_type": "code",
   "execution_count": 114,
   "id": "4795b7c9",
   "metadata": {},
   "outputs": [],
   "source": [
    "import random\n",
    "name = ['uday','ram','venu','jin']\n",
    "designations = ['mgr','se','sse','admin','hr','fin']\n",
    "\n",
    "def people_lst():\n",
    "    people = []\n",
    "    for i in range(1000000):\n",
    "        person = {'id':i, 'name':random.choice(name),\n",
    "                 \"designation\": random.choice(designations)\n",
    "                 }\n",
    "        people.append(person)\n",
    "    return people\n",
    "# another way\n",
    "def people_generator():\n",
    "    for i in range(1000000):\n",
    "        person = {'id':i, 'name':random.choice(name),\n",
    "                 \"designation\": random.choice(designations)\n",
    "                 }\n",
    "        yield person"
   ]
  },
  {
   "cell_type": "code",
   "execution_count": 115,
   "id": "d305fe59",
   "metadata": {},
   "outputs": [
    {
     "data": {
      "text/plain": [
       "[{'id': 0, 'name': 'jin', 'designation': 'admin'},\n",
       " {'id': 1, 'name': 'jin', 'designation': 'se'}]"
      ]
     },
     "execution_count": 115,
     "metadata": {},
     "output_type": "execute_result"
    }
   ],
   "source": [
    "p = people_lst()\n",
    "p[:2]"
   ]
  },
  {
   "cell_type": "code",
   "execution_count": 116,
   "id": "2de27a40",
   "metadata": {},
   "outputs": [
    {
     "data": {
      "text/plain": [
       "<generator object people_generator at 0x000001CBEAC4F9E0>"
      ]
     },
     "execution_count": 116,
     "metadata": {},
     "output_type": "execute_result"
    }
   ],
   "source": [
    "res = people_generator()\n",
    "res"
   ]
  },
  {
   "cell_type": "code",
   "execution_count": 117,
   "id": "fb5116a8",
   "metadata": {},
   "outputs": [
    {
     "data": {
      "text/plain": [
       "112"
      ]
     },
     "execution_count": 117,
     "metadata": {},
     "output_type": "execute_result"
    }
   ],
   "source": [
    "import sys, os\n",
    "sys.getsizeof(res)"
   ]
  },
  {
   "cell_type": "code",
   "execution_count": 118,
   "id": "5cb33d63",
   "metadata": {},
   "outputs": [
    {
     "data": {
      "text/plain": [
       "{'id': 0, 'name': 'jin', 'designation': 'admin'}"
      ]
     },
     "execution_count": 118,
     "metadata": {},
     "output_type": "execute_result"
    }
   ],
   "source": [
    "next(res)"
   ]
  },
  {
   "cell_type": "code",
   "execution_count": 112,
   "id": "eeef0790",
   "metadata": {},
   "outputs": [],
   "source": [
    "# write custom generator function like range\n",
    "\n",
    "def frange(start, stop, increment):\n",
    "    x = start\n",
    "    while x < stop:\n",
    "        yield x\n",
    "        x+=increment\n",
    "    "
   ]
  },
  {
   "cell_type": "code",
   "execution_count": 113,
   "id": "0b02e790",
   "metadata": {},
   "outputs": [
    {
     "name": "stdout",
     "output_type": "stream",
     "text": [
      "<class 'generator'>\n",
      "0\n",
      "0.5\n",
      "1.0\n",
      "1.5\n",
      "2.0\n",
      "2.5\n",
      "3.0\n",
      "3.5\n"
     ]
    }
   ],
   "source": [
    "c = frange(0,4,0.5)\n",
    "print(type(c))\n",
    "\n",
    "for n in frange(0,4,0.5):\n",
    "    print(n)"
   ]
  },
  {
   "cell_type": "code",
   "execution_count": 106,
   "id": "2fbef4ca",
   "metadata": {},
   "outputs": [],
   "source": [
    "def countdown(n):\n",
    "    print('starting to count from', n)\n",
    "    while n > 0:\n",
    "        yield n\n",
    "        n -=1\n",
    "    print(\"done\")"
   ]
  },
  {
   "cell_type": "code",
   "execution_count": 107,
   "id": "47e1db4a",
   "metadata": {},
   "outputs": [
    {
     "name": "stdout",
     "output_type": "stream",
     "text": [
      "<generator object countdown at 0x000001CBEADE0BA0>\n"
     ]
    }
   ],
   "source": [
    "c = countdown(3)\n",
    "print(c)"
   ]
  },
  {
   "cell_type": "code",
   "execution_count": 108,
   "id": "e1abc99a",
   "metadata": {},
   "outputs": [
    {
     "name": "stdout",
     "output_type": "stream",
     "text": [
      "starting to count from 3\n"
     ]
    },
    {
     "data": {
      "text/plain": [
       "3"
      ]
     },
     "execution_count": 108,
     "metadata": {},
     "output_type": "execute_result"
    }
   ],
   "source": [
    "next(c)"
   ]
  },
  {
   "cell_type": "code",
   "execution_count": 109,
   "id": "ebb26fd1",
   "metadata": {},
   "outputs": [
    {
     "data": {
      "text/plain": [
       "2"
      ]
     },
     "execution_count": 109,
     "metadata": {},
     "output_type": "execute_result"
    }
   ],
   "source": [
    "next(c)"
   ]
  },
  {
   "cell_type": "code",
   "execution_count": 110,
   "id": "95867689",
   "metadata": {},
   "outputs": [
    {
     "data": {
      "text/plain": [
       "1"
      ]
     },
     "execution_count": 110,
     "metadata": {},
     "output_type": "execute_result"
    }
   ],
   "source": [
    "next(c)"
   ]
  },
  {
   "cell_type": "code",
   "execution_count": 111,
   "id": "cade119b",
   "metadata": {},
   "outputs": [
    {
     "name": "stdout",
     "output_type": "stream",
     "text": [
      "done\n"
     ]
    },
    {
     "ename": "StopIteration",
     "evalue": "",
     "output_type": "error",
     "traceback": [
      "\u001b[1;31m---------------------------------------------------------------------------\u001b[0m",
      "\u001b[1;31mStopIteration\u001b[0m                             Traceback (most recent call last)",
      "\u001b[1;32mC:\\Users\\UDAYKU~1\\AppData\\Local\\Temp/ipykernel_11308/1173204873.py\u001b[0m in \u001b[0;36m<module>\u001b[1;34m\u001b[0m\n\u001b[1;32m----> 1\u001b[1;33m \u001b[0mnext\u001b[0m\u001b[1;33m(\u001b[0m\u001b[0mc\u001b[0m\u001b[1;33m)\u001b[0m\u001b[1;33m\u001b[0m\u001b[1;33m\u001b[0m\u001b[0m\n\u001b[0m",
      "\u001b[1;31mStopIteration\u001b[0m: "
     ]
    }
   ],
   "source": [
    "next(c)"
   ]
  },
  {
   "cell_type": "code",
   "execution_count": 104,
   "id": "fc5dec4d",
   "metadata": {},
   "outputs": [
    {
     "data": {
      "text/plain": [
       "['b', 'c']"
      ]
     },
     "execution_count": 104,
     "metadata": {},
     "output_type": "execute_result"
    }
   ],
   "source": [
    "list(c)"
   ]
  },
  {
   "cell_type": "code",
   "execution_count": 103,
   "id": "e15c0351",
   "metadata": {},
   "outputs": [
    {
     "name": "stdout",
     "output_type": "stream",
     "text": [
      "5\n",
      "4\n",
      "3\n",
      "2\n",
      "1\n"
     ]
    }
   ],
   "source": [
    "a = [1, 2, 3, 4, 5]\n",
    "for x in reversed(a):\n",
    "    print(x)"
   ]
  },
  {
   "cell_type": "code",
   "execution_count": 102,
   "id": "c1d25b0e",
   "metadata": {},
   "outputs": [
    {
     "name": "stdout",
     "output_type": "stream",
     "text": [
      "permutations\n",
      "('a', 'b', 'c')\n",
      "('a', 'c', 'b')\n",
      "('b', 'a', 'c')\n",
      "('b', 'c', 'a')\n",
      "('c', 'a', 'b')\n",
      "('c', 'b', 'a')\n",
      "combinations\n",
      "('a', 'b')\n",
      "('a', 'c')\n",
      "('b', 'c')\n"
     ]
    }
   ],
   "source": [
    "# assignment write pgm to calculate permutation and combination of below list\n",
    "items = ['a','b','c']\n",
    "\n",
    "from itertools import permutations, combinations\n",
    "\n",
    "print(\"permutations\")\n",
    "\n",
    "for p in permutations(items):\n",
    "    print(p)\n",
    "    \n",
    "print(\"combinations\")\n",
    "\n",
    "for c in combinations(items, 2):\n",
    "    print(c)"
   ]
  },
  {
   "cell_type": "code",
   "execution_count": 100,
   "id": "a9b522cb",
   "metadata": {},
   "outputs": [
    {
     "name": "stdout",
     "output_type": "stream",
     "text": [
      "0 a\n",
      "1 b\n",
      "2 c\n"
     ]
    }
   ],
   "source": [
    "# enumerate to track of seq and element in terms of index & value\n",
    "\n",
    "mylist = ['a','b','c']\n",
    "for idx, val in enumerate(mylist):\n",
    "    print(idx, val)"
   ]
  },
  {
   "cell_type": "code",
   "execution_count": 101,
   "id": "971d55c1",
   "metadata": {},
   "outputs": [
    {
     "name": "stdout",
     "output_type": "stream",
     "text": [
      "1 a\n",
      "2 b\n",
      "3 c\n"
     ]
    }
   ],
   "source": [
    "for idx, val in enumerate(mylist, 1):\n",
    "    print(idx, val)"
   ]
  },
  {
   "cell_type": "code",
   "execution_count": 99,
   "id": "39491da2",
   "metadata": {},
   "outputs": [
    {
     "name": "stdout",
     "output_type": "stream",
     "text": [
      "{1: 101, 2: 102, 3: 103, 4: 104, 5: 105}\n"
     ]
    }
   ],
   "source": [
    "# Zip iterator\n",
    "\n",
    "x = [1,2,3,4,5]\n",
    "y = [101,102,103,104,105]\n",
    "d = {}\n",
    "for i, j in zip(x, y):\n",
    "    d[i] =j \n",
    "print(d)"
   ]
  },
  {
   "cell_type": "code",
   "execution_count": 97,
   "id": "bce4d854",
   "metadata": {},
   "outputs": [
    {
     "name": "stdout",
     "output_type": "stream",
     "text": [
      "(1, 'w')\n",
      "(2, 'x')\n",
      "(3, 'y')\n"
     ]
    }
   ],
   "source": [
    "a = [1,2,3]\n",
    "b = ['w','x','y','z']\n",
    "for i in zip(a,b):\n",
    "    print(i)"
   ]
  },
  {
   "cell_type": "code",
   "execution_count": 98,
   "id": "601d1655",
   "metadata": {},
   "outputs": [
    {
     "name": "stdout",
     "output_type": "stream",
     "text": [
      "(1, 'w')\n",
      "(2, 'x')\n",
      "(3, 'y')\n",
      "(None, 'z')\n"
     ]
    }
   ],
   "source": [
    "from itertools import zip_longest\n",
    "\n",
    "for i in zip_longest(a,b):\n",
    "    print(i)\n",
    "    "
   ]
  },
  {
   "cell_type": "code",
   "execution_count": 95,
   "id": "fb19926e",
   "metadata": {},
   "outputs": [
    {
     "name": "stdout",
     "output_type": "stream",
     "text": [
      "(1, 'w', 10)\n",
      "(2, 'x', 11)\n",
      "(3, 'y', 12)\n"
     ]
    }
   ],
   "source": [
    "a = [1,2,3]\n",
    "b = ['w','x','y']\n",
    "c = [10,11,12]\n",
    "for i in zip(a,b,c):\n",
    "    print(i)"
   ]
  },
  {
   "cell_type": "code",
   "execution_count": 96,
   "id": "240b59a7",
   "metadata": {},
   "outputs": [
    {
     "name": "stdout",
     "output_type": "stream",
     "text": [
      "1\n",
      "2\n",
      "3\n",
      "w\n",
      "x\n",
      "y\n",
      "10\n",
      "11\n",
      "12\n"
     ]
    }
   ],
   "source": [
    "from itertools import chain\n",
    "\n",
    "for x in chain(a,b,c):\n",
    "    print(x)\n"
   ]
  },
  {
   "cell_type": "code",
   "execution_count": 39,
   "id": "1edd3a54",
   "metadata": {},
   "outputs": [
    {
     "name": "stderr",
     "output_type": "stream",
     "text": [
      "C:\\Users\\UDAYKU~1\\AppData\\Local\\Temp/ipykernel_11308/2632251547.py:3: DeprecationWarning: Using or importing the ABCs from 'collections' instead of from 'collections.abc' is deprecated since Python 3.3, and in 3.10 it will stop working\n",
      "  from collections import Iterable\n"
     ]
    }
   ],
   "source": [
    "# flattening nested sequence\n",
    "\n",
    "from collections import Iterable\n",
    "\n",
    "def flatten(items,ignore_types=(str, bytes)):\n",
    "    for x in items:\n",
    "        if isinstance(x, Iterable) and not isinstance(x, ignore_types):\n",
    "            yield from flatten(x)\n",
    "        else:\n",
    "            yield x"
   ]
  },
  {
   "cell_type": "code",
   "execution_count": 40,
   "id": "5e4d969e",
   "metadata": {},
   "outputs": [
    {
     "name": "stdout",
     "output_type": "stream",
     "text": [
      "1\n",
      "2\n",
      "3\n",
      "4\n",
      "5\n",
      "6\n",
      "7\n",
      "8\n"
     ]
    }
   ],
   "source": [
    "items = [1,2,[3,4,[5,6],7],8]\n",
    "\n",
    "for x in flatten(items):\n",
    "    print(x)"
   ]
  },
  {
   "cell_type": "code",
   "execution_count": 41,
   "id": "1b8bfd8f",
   "metadata": {},
   "outputs": [
    {
     "data": {
      "text/plain": [
       "80056"
      ]
     },
     "execution_count": 41,
     "metadata": {},
     "output_type": "execute_result"
    }
   ],
   "source": [
    "import sys, os\n",
    "sys.getsizeof(list(range(10000)))"
   ]
  },
  {
   "cell_type": "code",
   "execution_count": 42,
   "id": "15cbfc21",
   "metadata": {},
   "outputs": [
    {
     "name": "stdout",
     "output_type": "stream",
     "text": [
      "hi hello\n",
      "\n",
      "python is fun\n"
     ]
    }
   ],
   "source": [
    "with open('sample.txt', 'rt') as f:\n",
    "    for line in f:\n",
    "        print(line)"
   ]
  },
  {
   "cell_type": "code",
   "execution_count": 43,
   "id": "e05a0f88",
   "metadata": {},
   "outputs": [
    {
     "name": "stdout",
     "output_type": "stream",
     "text": [
      "Help on built-in function print in module builtins:\n",
      "\n",
      "print(...)\n",
      "    print(value, ..., sep=' ', end='\\n', file=sys.stdout, flush=False)\n",
      "    \n",
      "    Prints the values to a stream, or to sys.stdout by default.\n",
      "    Optional keyword arguments:\n",
      "    file:  a file-like object (stream); defaults to the current sys.stdout.\n",
      "    sep:   string inserted between values, default a space.\n",
      "    end:   string appended after the last value, default a newline.\n",
      "    flush: whether to forcibly flush the stream.\n",
      "\n"
     ]
    }
   ],
   "source": [
    "help(print)"
   ]
  },
  {
   "cell_type": "code",
   "execution_count": 44,
   "id": "f010d698",
   "metadata": {},
   "outputs": [
    {
     "name": "stdout",
     "output_type": "stream",
     "text": [
      "<str_iterator object at 0x000001CBEADED2E0>\n",
      "G\n",
      "e\n",
      "e\n",
      "k\n",
      "s\n"
     ]
    }
   ],
   "source": [
    "\n",
    "iterable_value = 'Geeks'\n",
    "iterable_obj = iter(iterable_value)\n",
    "print(iterable_obj)\n",
    " \n",
    "while True:\n",
    "    try:\n",
    "        item = next(iterable_obj)\n",
    "        print(item)\n",
    "    except StopIteration:\n",
    "        break"
   ]
  },
  {
   "cell_type": "code",
   "execution_count": 45,
   "id": "f6a89d5f",
   "metadata": {},
   "outputs": [
    {
     "name": "stdout",
     "output_type": "stream",
     "text": [
      "hi hello\n",
      "python is fun\n"
     ]
    }
   ],
   "source": [
    "# read entire file as single string\n",
    "with open(\"sample.txt\", \"rt\") as f:\n",
    "    data = f.read()\n",
    "print(data)"
   ]
  },
  {
   "cell_type": "code",
   "execution_count": 46,
   "id": "bf6b2c4a",
   "metadata": {},
   "outputs": [
    {
     "name": "stdout",
     "output_type": "stream",
     "text": [
      "hi hello\n",
      "\n",
      "python is fun\n"
     ]
    }
   ],
   "source": [
    "# iterate over file\n",
    "with open(\"sample.txt\", \"rt\") as f:\n",
    "    for line in f:\n",
    "        print(line)"
   ]
  },
  {
   "cell_type": "code",
   "execution_count": null,
   "id": "f97f4c26",
   "metadata": {},
   "outputs": [],
   "source": [
    "# write chunk of text data\n",
    "\n",
    "with open('sample.txt','wt') as f:\n",
    "    f.write(\"hi\")\n",
    "    f.write(\"hello\")"
   ]
  },
  {
   "cell_type": "code",
   "execution_count": 47,
   "id": "1d212597",
   "metadata": {},
   "outputs": [],
   "source": [
    "# redirect output file\n",
    "\n",
    "with open(\"exmp.txt\", \"wt\") as f:\n",
    "    print(\"hi python\", file = f)\n",
    "    print(\"line\", file=f)"
   ]
  },
  {
   "cell_type": "code",
   "execution_count": 48,
   "id": "e53ebb01",
   "metadata": {},
   "outputs": [],
   "source": [
    "f = open(\"exmp.txt\", \"rt\")\n",
    "data = f.read()\n",
    "f.close()"
   ]
  },
  {
   "cell_type": "code",
   "execution_count": 49,
   "id": "d263ed1d",
   "metadata": {},
   "outputs": [
    {
     "data": {
      "text/plain": [
       "'hi python\\nline\\n'"
      ]
     },
     "execution_count": 49,
     "metadata": {},
     "output_type": "execute_result"
    }
   ],
   "source": [
    "data"
   ]
  },
  {
   "cell_type": "code",
   "execution_count": 22,
   "id": "897da4cb",
   "metadata": {},
   "outputs": [
    {
     "data": {
      "text/plain": [
       "\"'Spicy Jalapelo!'\\n\""
      ]
     },
     "execution_count": 22,
     "metadata": {},
     "output_type": "execute_result"
    }
   ],
   "source": [
    "# replace bad chars with unicode replace\n",
    "f = open(\"sample-error.txt\", \"rt\", encoding=\"ascii\", errors=\"replace\")\n",
    "f.read()"
   ]
  },
  {
   "cell_type": "code",
   "execution_count": 23,
   "id": "6510561f",
   "metadata": {},
   "outputs": [
    {
     "data": {
      "text/plain": [
       "\"'Spicy Jalapelo!'\\n\""
      ]
     },
     "execution_count": 23,
     "metadata": {},
     "output_type": "execute_result"
    }
   ],
   "source": [
    "f = open(\"sample-error.txt\", \"rt\", encoding=\"ascii\", errors=\"ignore\")\n",
    "f.read()"
   ]
  },
  {
   "cell_type": "code",
   "execution_count": 50,
   "id": "738f6c1b",
   "metadata": {},
   "outputs": [],
   "source": [
    "# write binary data file\n",
    "\n",
    "with open('somefile.bin', 'wb') as f:\n",
    "    f.write(b'hello world')"
   ]
  },
  {
   "cell_type": "code",
   "execution_count": 51,
   "id": "31009de7",
   "metadata": {},
   "outputs": [],
   "source": [
    "# read the data from binary file\n",
    "\n",
    "with open('somefile.bin', 'rb') as f:\n",
    "    data = f.read()"
   ]
  },
  {
   "cell_type": "code",
   "execution_count": 52,
   "id": "c5ec91c1",
   "metadata": {},
   "outputs": [
    {
     "data": {
      "text/plain": [
       "b'hello world'"
      ]
     },
     "execution_count": 52,
     "metadata": {},
     "output_type": "execute_result"
    }
   ],
   "source": [
    "data"
   ]
  },
  {
   "cell_type": "code",
   "execution_count": 53,
   "id": "d8d4ebb4",
   "metadata": {},
   "outputs": [],
   "source": [
    "import os\n",
    "\n",
    "#path = '~/Documents/workspace'\n",
    "\n",
    "if not os.path.exists(\"somefile\"):\n",
    "    with open(\"somefile.bin\", \"wt\") as f:\n",
    "        f.write(\"hello\\n\")\n",
    "else:\n",
    "    print('file is already exits!!!')"
   ]
  },
  {
   "cell_type": "code",
   "execution_count": 54,
   "id": "351aebe4",
   "metadata": {},
   "outputs": [],
   "source": [
    "# gzip compression\n",
    "\n",
    "import gzip\n",
    "\n",
    "with gzip.open(\"somefile.gz\", \"wt\") as f:\n",
    "    f.write(\"text compression\")"
   ]
  },
  {
   "cell_type": "code",
   "execution_count": 55,
   "id": "eef25205",
   "metadata": {},
   "outputs": [],
   "source": [
    "# bz2 compression\n",
    "import bz2\n",
    "with bz2.open(\"somefile.bz2\",\"wt\") as f:\n",
    "    f.write(\"text compression\")"
   ]
  },
  {
   "cell_type": "code",
   "execution_count": 56,
   "id": "447d5277",
   "metadata": {},
   "outputs": [
    {
     "name": "stdout",
     "output_type": "stream",
     "text": [
      "text info text compression\n"
     ]
    }
   ],
   "source": [
    "import gzip\n",
    "\n",
    "with gzip.open(\"somefile.gz\", \"rt\") as f:\n",
    "    text = f.read()\n",
    "    print(\"text info\", text)"
   ]
  },
  {
   "cell_type": "code",
   "execution_count": 57,
   "id": "8f43d507",
   "metadata": {},
   "outputs": [
    {
     "name": "stdout",
     "output_type": "stream",
     "text": [
      "text info text compression\n"
     ]
    }
   ],
   "source": [
    "import bz2\n",
    "with bz2.open(\"somefile.bz2\",\"rt\") as f:\n",
    "    text = f.read()\n",
    "    print(\"text info\", text)"
   ]
  },
  {
   "cell_type": "code",
   "execution_count": 58,
   "id": "64b89991",
   "metadata": {},
   "outputs": [],
   "source": [
    "fh = open(\"sample.txt\")"
   ]
  },
  {
   "cell_type": "code",
   "execution_count": 59,
   "id": "6d426fd7",
   "metadata": {},
   "outputs": [
    {
     "name": "stdout",
     "output_type": "stream",
     "text": [
      "hi hello\n",
      "python is fun\n"
     ]
    }
   ],
   "source": [
    "print(fh.read())"
   ]
  },
  {
   "cell_type": "code",
   "execution_count": 60,
   "id": "42e66dbf",
   "metadata": {},
   "outputs": [],
   "source": [
    "fh = open('sample.txt')"
   ]
  },
  {
   "cell_type": "code",
   "execution_count": 61,
   "id": "ec433d3d",
   "metadata": {},
   "outputs": [
    {
     "data": {
      "text/plain": [
       "'hi hello\\n'"
      ]
     },
     "execution_count": 61,
     "metadata": {},
     "output_type": "execute_result"
    }
   ],
   "source": [
    "fh.readline()"
   ]
  },
  {
   "cell_type": "code",
   "execution_count": 62,
   "id": "c9575668",
   "metadata": {},
   "outputs": [
    {
     "data": {
      "text/plain": [
       "'python is fun'"
      ]
     },
     "execution_count": 62,
     "metadata": {},
     "output_type": "execute_result"
    }
   ],
   "source": [
    "fh.readline()"
   ]
  },
  {
   "cell_type": "code",
   "execution_count": 63,
   "id": "42300ccc",
   "metadata": {},
   "outputs": [
    {
     "name": "stdout",
     "output_type": "stream",
     "text": [
      "hi hello\n",
      "\n",
      "['hi hello\\n', 'python is fun']\n"
     ]
    }
   ],
   "source": [
    "with open('sample.txt') as f:\n",
    "    print(f.readline())\n",
    "    f.seek(0,0)\n",
    "    print(f.readlines())"
   ]
  },
  {
   "cell_type": "code",
   "execution_count": 38,
   "id": "bea45c2a",
   "metadata": {},
   "outputs": [
    {
     "ename": "FileNotFoundError",
     "evalue": "[Errno 2] No such file or directory: 'filename.csv'",
     "output_type": "error",
     "traceback": [
      "\u001b[1;31m---------------------------------------------------------------------------\u001b[0m",
      "\u001b[1;31mFileNotFoundError\u001b[0m                         Traceback (most recent call last)",
      "\u001b[1;32mC:\\Users\\UDAYKU~1\\AppData\\Local\\Temp/ipykernel_11308/943581467.py\u001b[0m in \u001b[0;36m<module>\u001b[1;34m\u001b[0m\n\u001b[0;32m      1\u001b[0m \u001b[0mdata\u001b[0m \u001b[1;33m=\u001b[0m \u001b[1;33m{\u001b[0m\u001b[1;33m}\u001b[0m\u001b[1;33m\u001b[0m\u001b[1;33m\u001b[0m\u001b[0m\n\u001b[1;32m----> 2\u001b[1;33m \u001b[1;32mwith\u001b[0m \u001b[0mopen\u001b[0m\u001b[1;33m(\u001b[0m\u001b[1;34m'filename.csv'\u001b[0m\u001b[1;33m)\u001b[0m \u001b[1;32mas\u001b[0m \u001b[0mb\u001b[0m\u001b[1;33m:\u001b[0m\u001b[1;33m\u001b[0m\u001b[1;33m\u001b[0m\u001b[0m\n\u001b[0m\u001b[0;32m      3\u001b[0m     \u001b[0mpricelist\u001b[0m \u001b[1;33m=\u001b[0m \u001b[1;33m[\u001b[0m\u001b[1;33m]\u001b[0m\u001b[1;33m\u001b[0m\u001b[1;33m\u001b[0m\u001b[0m\n\u001b[0;32m      4\u001b[0m     \u001b[1;32mfor\u001b[0m \u001b[0mrec\u001b[0m \u001b[1;32min\u001b[0m \u001b[0mb\u001b[0m\u001b[1;33m:\u001b[0m\u001b[1;33m\u001b[0m\u001b[1;33m\u001b[0m\u001b[0m\n\u001b[0;32m      5\u001b[0m         \u001b[0mrec\u001b[0m \u001b[1;33m=\u001b[0m \u001b[0mrec\u001b[0m\u001b[1;33m.\u001b[0m\u001b[0mstrip\u001b[0m\u001b[1;33m(\u001b[0m\u001b[1;33m)\u001b[0m\u001b[1;33m\u001b[0m\u001b[1;33m\u001b[0m\u001b[0m\n",
      "\u001b[1;31mFileNotFoundError\u001b[0m: [Errno 2] No such file or directory: 'filename.csv'"
     ]
    }
   ],
   "source": [
    "data = {}\n",
    "with open('filename.csv') as b:\n",
    "    pricelist = []\n",
    "    for rec in b:\n",
    "        rec = rec.strip()\n",
    "        cols = [x.strip('') for x in rec.split(',')]\n",
    "        if cols[2] == \"Open\" or cols[2] == \"High\":\n",
    "            continue\n",
    "        if cols[1] in data:\n",
    "            data[cols[1].strip()].append(float(cols[2]))\n",
    "        else:\n",
    "            data[cols[1].strip()] = [float(cols[2])]\n",
    "for year in data:\n",
    "    print(\"Avg price for {} is {}\".format(year, round(sum(data[year])/len(data[year]), 2)))"
   ]
  },
  {
   "cell_type": "code",
   "execution_count": null,
   "id": "f0a1a706",
   "metadata": {},
   "outputs": [],
   "source": [
    "data = {}\n",
    "with open('filename.csv') as b, open('filename.txt', 'w+') as w:\n",
    "    pricelist = []\n",
    "    for rec in b:\n",
    "        rec = rec.strip()\n",
    "        cols = [x.strip('') for x in rec.split(',')]\n",
    "        if cols[2] == \"Open\" or cols[2] == \"High\":\n",
    "            continue\n",
    "        if cols[1] in data:\n",
    "            data[cols[1].strip()].append(float(cols[2]))\n",
    "        else:\n",
    "            data[cols[1].strip()] = [float(cols[2])]\n",
    "    for year in data:\n",
    "        avg_price =round(sum(data[year])/len(data[year]), 2)\n",
    "        w.write(\"Avg price for {} is {} \\n\".format(year, avg_price))"
   ]
  },
  {
   "cell_type": "code",
   "execution_count": 64,
   "id": "1440c713",
   "metadata": {},
   "outputs": [],
   "source": [
    "import os\n",
    "path = 'usr/uday/data/data.csv'"
   ]
  },
  {
   "cell_type": "code",
   "execution_count": 65,
   "id": "d63e1384",
   "metadata": {},
   "outputs": [
    {
     "data": {
      "text/plain": [
       "'data.csv'"
      ]
     },
     "execution_count": 65,
     "metadata": {},
     "output_type": "execute_result"
    }
   ],
   "source": [
    "os.path.basename(path)"
   ]
  },
  {
   "cell_type": "code",
   "execution_count": 66,
   "id": "c8eb09a8",
   "metadata": {},
   "outputs": [
    {
     "data": {
      "text/plain": [
       "'usr/uday/data'"
      ]
     },
     "execution_count": 66,
     "metadata": {},
     "output_type": "execute_result"
    }
   ],
   "source": [
    "# get directory name\n",
    "os.path.dirname(path)"
   ]
  },
  {
   "cell_type": "code",
   "execution_count": 67,
   "id": "ab610b66",
   "metadata": {},
   "outputs": [
    {
     "data": {
      "text/plain": [
       "'tmp\\\\data\\\\data.csv'"
      ]
     },
     "execution_count": 67,
     "metadata": {},
     "output_type": "execute_result"
    }
   ],
   "source": [
    "# join component path\n",
    "os.path.join(\"tmp\", \"data\", os.path.basename(path))"
   ]
  },
  {
   "cell_type": "code",
   "execution_count": 69,
   "id": "c8cd0b1f",
   "metadata": {},
   "outputs": [
    {
     "data": {
      "text/plain": [
       "'C:\\\\Users\\\\Udaykumar Ramagiri\\\\Data\\\\data.csv'"
      ]
     },
     "execution_count": 69,
     "metadata": {},
     "output_type": "execute_result"
    }
   ],
   "source": [
    "# expand user's home directory\n",
    "\n",
    "path = '~\\Data\\data.csv'\n",
    "os.path.expanduser(path)"
   ]
  },
  {
   "cell_type": "code",
   "execution_count": 236,
   "id": "1f8b7d0e",
   "metadata": {},
   "outputs": [
    {
     "data": {
      "text/plain": [
       "('~\\\\Data\\\\data', '.csv')"
      ]
     },
     "execution_count": 236,
     "metadata": {},
     "output_type": "execute_result"
    }
   ],
   "source": [
    "# split file extension\n",
    "os.path.splitext(path)"
   ]
  },
  {
   "cell_type": "code",
   "execution_count": 237,
   "id": "1e923a74",
   "metadata": {},
   "outputs": [
    {
     "data": {
      "text/plain": [
       "False"
      ]
     },
     "execution_count": 237,
     "metadata": {},
     "output_type": "execute_result"
    }
   ],
   "source": [
    "import os\n",
    "os.path.exists('/etc/passwd')"
   ]
  },
  {
   "cell_type": "code",
   "execution_count": 72,
   "id": "7620fa10",
   "metadata": {},
   "outputs": [
    {
     "data": {
      "text/plain": [
       "False"
      ]
     },
     "execution_count": 72,
     "metadata": {},
     "output_type": "execute_result"
    }
   ],
   "source": [
    "# is symbolic path (shortcut)\n",
    "os.path.islink(\"\\local\\bin\\python3\")"
   ]
  },
  {
   "cell_type": "code",
   "execution_count": 78,
   "id": "5aeea12c",
   "metadata": {},
   "outputs": [
    {
     "data": {
      "text/plain": [
       "\"C:\\\\local'\\\\'bin\\\\python3\""
      ]
     },
     "execution_count": 78,
     "metadata": {},
     "output_type": "execute_result"
    }
   ],
   "source": [
    "os.path.realpath(\"\\local'\\\\'bin\\python3\")"
   ]
  },
  {
   "cell_type": "code",
   "execution_count": 79,
   "id": "03050dee",
   "metadata": {},
   "outputs": [
    {
     "name": "stdout",
     "output_type": "stream",
     "text": [
      "['$Recycle.Bin', '$WinREAgent', 'bootmgr', 'BOOTNXT', 'Documents and Settings', 'DumpStack.log.tmp', 'hiberfil.sys', 'Intel', 'pagefile.sys', 'PerfLogs', 'Program Files', 'Program Files (x86)', 'ProgramData', 'Recovery', 'swapfile.sys', 'System Volume Information', 'Users', 'Windows']\n"
     ]
    }
   ],
   "source": [
    "name = os.listdir(\"/\")\n",
    "print(name)"
   ]
  },
  {
   "cell_type": "code",
   "execution_count": 80,
   "id": "79a67db6",
   "metadata": {},
   "outputs": [],
   "source": [
    "# get all regular files\n",
    "import os.path\n",
    "names = [name for name in os.listdir(\"/\") if os.path.isfile(os.path.join('/', name))]\n"
   ]
  },
  {
   "cell_type": "code",
   "execution_count": 81,
   "id": "5af34077",
   "metadata": {},
   "outputs": [
    {
     "data": {
      "text/plain": [
       "['bootmgr',\n",
       " 'BOOTNXT',\n",
       " 'DumpStack.log.tmp',\n",
       " 'hiberfil.sys',\n",
       " 'pagefile.sys',\n",
       " 'swapfile.sys']"
      ]
     },
     "execution_count": 81,
     "metadata": {},
     "output_type": "execute_result"
    }
   ],
   "source": [
    "names"
   ]
  },
  {
   "cell_type": "code",
   "execution_count": 82,
   "id": "434e6f86",
   "metadata": {},
   "outputs": [],
   "source": [
    "# serialization <-> deserialization\n",
    "import pickle\n",
    "\n",
    "dict_pickle = {\n",
    "    \"key\":\"john\",\n",
    "    \"name\":\"fred\",\n",
    "    \"age\":22,\n",
    "    \"pat\":400000\n",
    "}\n",
    "\n",
    "f = open('pickle1', 'wb')\n",
    "\n",
    "#dump object\n",
    "pickle.dump(dict_pickle, f)\n"
   ]
  },
  {
   "cell_type": "code",
   "execution_count": 83,
   "id": "cf7d27da",
   "metadata": {},
   "outputs": [
    {
     "name": "stdout",
     "output_type": "stream",
     "text": [
      "b'\\x80\\x04\\x953\\x00\\x00\\x00\\x00\\x00\\x00\\x00}\\x94(\\x8c\\x03key\\x94\\x8c\\x04john\\x94\\x8c\\x04name\\x94\\x8c\\x04fred\\x94\\x8c\\x03age\\x94K\\x16\\x8c\\x03pat\\x94J\\x80\\x1a\\x06\\x00u.'\n"
     ]
    }
   ],
   "source": [
    "# dump into string\n",
    "\n",
    "s = pickle.dumps(dict_pickle)\n",
    "print(s)"
   ]
  },
  {
   "cell_type": "code",
   "execution_count": 84,
   "id": "c6fb7901",
   "metadata": {},
   "outputs": [],
   "source": [
    "# restore from file\n",
    "f = open('pickle1', 'rb')\n",
    "\n",
    "data = pickle.load(f)"
   ]
  },
  {
   "cell_type": "code",
   "execution_count": 85,
   "id": "40721e58",
   "metadata": {},
   "outputs": [
    {
     "data": {
      "text/plain": [
       "{'key': 'john', 'name': 'fred', 'age': 22, 'pat': 400000}"
      ]
     },
     "execution_count": 85,
     "metadata": {},
     "output_type": "execute_result"
    }
   ],
   "source": [
    "data"
   ]
  },
  {
   "cell_type": "code",
   "execution_count": 86,
   "id": "027135e4",
   "metadata": {},
   "outputs": [
    {
     "name": "stdout",
     "output_type": "stream",
     "text": [
      "john ==> {'key': 'john', 'name': 'fred', 'age': 21, 'pay': 400000}\n",
      "jay ==> {'key': 'jay', 'name': 'jay', 'age': 50, 'pay': 500000}\n",
      "names ==> ['uday', 'john', 'ramu', 'venu']\n"
     ]
    }
   ],
   "source": [
    "import pickle\n",
    "\n",
    "def storeData():\n",
    "    # intializing the data \n",
    "    pickel_dataset_1 = {\"key\":\"john\", \"name\": \"fred\", \"age\":21, \"pay\": 400000}\n",
    "    pickel_dataset_2 = {\"key\": \"jay\", \"name\": \"jay\", \"age\": 50, \"pay\": 500000}\n",
    "    \n",
    "    pickel_dataset_3 = ['uday', 'john', 'ramu', 'venu']\n",
    "    db = {}\n",
    "    db['john'] = pickel_dataset_1\n",
    "    db['jay'] = pickel_dataset_2\n",
    "    db['names'] = pickel_dataset_3\n",
    "    dbfile = open(\"examplepickle\", \"wb\")\n",
    "    pickle.dump(db, dbfile)\n",
    "    dbfile.close()\n",
    "\n",
    "    \n",
    "def loadData():\n",
    "    # for reading\n",
    "    \n",
    "    dbfile = open(\"examplepickle\", \"rb\")\n",
    "    db = pickle.load(dbfile)\n",
    "    for key in db:\n",
    "        print(key, \"==>\", db[key])\n",
    "    dbfile.close()\n",
    "\n",
    "    \n",
    "if __name__ =='__main__':\n",
    "    storeData()\n",
    "    loadData()\n"
   ]
  },
  {
   "cell_type": "code",
   "execution_count": 87,
   "id": "ce80c6ba",
   "metadata": {},
   "outputs": [
    {
     "name": "stdout",
     "output_type": "stream",
     "text": [
      "<class 'str'>\n",
      "{\"name\": \"infy\", \"shares\": 100, \"price\": 1000}\n"
     ]
    }
   ],
   "source": [
    "# json data\n",
    "\n",
    "import json\n",
    "\n",
    "data = {\n",
    "    \"name\":\"infy\",\n",
    "    \"shares\":100,\n",
    "    \"price\": 1000\n",
    "}\n",
    "\n",
    "json_str = json.dumps(data)\n",
    "print(type(json_str))\n",
    "print(json_str)"
   ]
  },
  {
   "cell_type": "code",
   "execution_count": 88,
   "id": "0fc020b9",
   "metadata": {},
   "outputs": [
    {
     "name": "stdout",
     "output_type": "stream",
     "text": [
      "<class 'dict'>\n",
      "{'name': 'infy', 'shares': 100, 'price': 1000}\n"
     ]
    }
   ],
   "source": [
    "data1 = json.loads(json_str)\n",
    "print(type(data1))\n",
    "print(data1)"
   ]
  },
  {
   "cell_type": "code",
   "execution_count": 89,
   "id": "2144fad6",
   "metadata": {},
   "outputs": [],
   "source": [
    "with open(\"data.json\", \"w\") as f:\n",
    "    json.dump(data, f)"
   ]
  },
  {
   "cell_type": "code",
   "execution_count": 90,
   "id": "b9cb4a6b",
   "metadata": {},
   "outputs": [
    {
     "name": "stdout",
     "output_type": "stream",
     "text": [
      "{'name': 'infy', 'shares': 100, 'price': 1000}\n"
     ]
    }
   ],
   "source": [
    "with open('data.json', 'r') as f:\n",
    "    g = json.load(f)\n",
    "    print(g)"
   ]
  },
  {
   "cell_type": "code",
   "execution_count": 91,
   "id": "efe0a707",
   "metadata": {},
   "outputs": [
    {
     "data": {
      "text/plain": [
       "'false'"
      ]
     },
     "execution_count": 91,
     "metadata": {},
     "output_type": "execute_result"
    }
   ],
   "source": [
    "json.dumps(False)"
   ]
  },
  {
   "cell_type": "code",
   "execution_count": 92,
   "id": "c7e28da6",
   "metadata": {},
   "outputs": [],
   "source": [
    "d = {'a': True, 'b':'Hello', 'c':None}"
   ]
  },
  {
   "cell_type": "code",
   "execution_count": 93,
   "id": "a9dc623b",
   "metadata": {},
   "outputs": [
    {
     "data": {
      "text/plain": [
       "'{\"a\": true, \"b\": \"Hello\", \"c\": null}'"
      ]
     },
     "execution_count": 93,
     "metadata": {},
     "output_type": "execute_result"
    }
   ],
   "source": [
    "json.dumps(d)"
   ]
  },
  {
   "cell_type": "code",
   "execution_count": null,
   "id": "cf012d8b",
   "metadata": {},
   "outputs": [],
   "source": []
  },
  {
   "cell_type": "code",
   "execution_count": null,
   "id": "aafde431",
   "metadata": {},
   "outputs": [],
   "source": []
  },
  {
   "cell_type": "code",
   "execution_count": null,
   "id": "960ac584",
   "metadata": {},
   "outputs": [],
   "source": []
  },
  {
   "cell_type": "code",
   "execution_count": null,
   "id": "7b69819a",
   "metadata": {},
   "outputs": [],
   "source": []
  },
  {
   "cell_type": "code",
   "execution_count": null,
   "id": "3049ea7f",
   "metadata": {},
   "outputs": [],
   "source": []
  },
  {
   "cell_type": "code",
   "execution_count": null,
   "id": "cc77a275",
   "metadata": {},
   "outputs": [],
   "source": []
  },
  {
   "cell_type": "code",
   "execution_count": null,
   "id": "aefde8d9",
   "metadata": {},
   "outputs": [],
   "source": []
  },
  {
   "cell_type": "code",
   "execution_count": null,
   "id": "7e85f81c",
   "metadata": {},
   "outputs": [],
   "source": []
  },
  {
   "cell_type": "code",
   "execution_count": null,
   "id": "debf8445",
   "metadata": {},
   "outputs": [],
   "source": []
  },
  {
   "cell_type": "code",
   "execution_count": null,
   "id": "8759e3ae",
   "metadata": {},
   "outputs": [],
   "source": []
  },
  {
   "cell_type": "code",
   "execution_count": null,
   "id": "c0b09418",
   "metadata": {},
   "outputs": [],
   "source": []
  },
  {
   "cell_type": "code",
   "execution_count": null,
   "id": "34a21cce",
   "metadata": {},
   "outputs": [],
   "source": []
  },
  {
   "cell_type": "code",
   "execution_count": null,
   "id": "cf9624ca",
   "metadata": {},
   "outputs": [],
   "source": []
  },
  {
   "cell_type": "code",
   "execution_count": null,
   "id": "972b1116",
   "metadata": {},
   "outputs": [],
   "source": []
  },
  {
   "cell_type": "code",
   "execution_count": null,
   "id": "8ab1f758",
   "metadata": {},
   "outputs": [],
   "source": []
  },
  {
   "cell_type": "code",
   "execution_count": null,
   "id": "152d1dab",
   "metadata": {},
   "outputs": [],
   "source": []
  },
  {
   "cell_type": "code",
   "execution_count": null,
   "id": "4cce0047",
   "metadata": {},
   "outputs": [],
   "source": []
  },
  {
   "cell_type": "code",
   "execution_count": null,
   "id": "87c294d8",
   "metadata": {},
   "outputs": [],
   "source": []
  },
  {
   "cell_type": "code",
   "execution_count": null,
   "id": "13f8149b",
   "metadata": {},
   "outputs": [],
   "source": []
  },
  {
   "cell_type": "code",
   "execution_count": null,
   "id": "53ab2670",
   "metadata": {},
   "outputs": [],
   "source": []
  },
  {
   "cell_type": "code",
   "execution_count": null,
   "id": "ba18ff8c",
   "metadata": {},
   "outputs": [],
   "source": []
  },
  {
   "cell_type": "code",
   "execution_count": null,
   "id": "466b4d64",
   "metadata": {},
   "outputs": [],
   "source": []
  },
  {
   "cell_type": "code",
   "execution_count": null,
   "id": "0e21ad73",
   "metadata": {},
   "outputs": [],
   "source": []
  },
  {
   "cell_type": "code",
   "execution_count": null,
   "id": "640c205a",
   "metadata": {},
   "outputs": [],
   "source": []
  },
  {
   "cell_type": "code",
   "execution_count": null,
   "id": "5c20deaa",
   "metadata": {},
   "outputs": [],
   "source": []
  },
  {
   "cell_type": "code",
   "execution_count": null,
   "id": "52d030d8",
   "metadata": {},
   "outputs": [],
   "source": []
  },
  {
   "cell_type": "code",
   "execution_count": null,
   "id": "5d357671",
   "metadata": {},
   "outputs": [],
   "source": []
  },
  {
   "cell_type": "code",
   "execution_count": null,
   "id": "b2ef3fe0",
   "metadata": {},
   "outputs": [],
   "source": []
  },
  {
   "cell_type": "code",
   "execution_count": null,
   "id": "ee77d5b7",
   "metadata": {},
   "outputs": [],
   "source": []
  },
  {
   "cell_type": "code",
   "execution_count": null,
   "id": "8209b67e",
   "metadata": {},
   "outputs": [],
   "source": []
  },
  {
   "cell_type": "code",
   "execution_count": null,
   "id": "8dbfe31b",
   "metadata": {},
   "outputs": [],
   "source": []
  },
  {
   "cell_type": "code",
   "execution_count": null,
   "id": "eb2ff284",
   "metadata": {},
   "outputs": [],
   "source": []
  },
  {
   "cell_type": "code",
   "execution_count": null,
   "id": "b92dc287",
   "metadata": {},
   "outputs": [],
   "source": []
  },
  {
   "cell_type": "code",
   "execution_count": null,
   "id": "a8a015a2",
   "metadata": {},
   "outputs": [],
   "source": []
  },
  {
   "cell_type": "code",
   "execution_count": null,
   "id": "0c80ca63",
   "metadata": {},
   "outputs": [],
   "source": []
  },
  {
   "cell_type": "code",
   "execution_count": null,
   "id": "ad64a3fe",
   "metadata": {},
   "outputs": [],
   "source": []
  },
  {
   "cell_type": "code",
   "execution_count": null,
   "id": "290cde51",
   "metadata": {},
   "outputs": [],
   "source": []
  },
  {
   "cell_type": "code",
   "execution_count": null,
   "id": "f1b16094",
   "metadata": {},
   "outputs": [],
   "source": []
  },
  {
   "cell_type": "code",
   "execution_count": null,
   "id": "7ecb0736",
   "metadata": {},
   "outputs": [],
   "source": []
  },
  {
   "cell_type": "code",
   "execution_count": null,
   "id": "c3705cd4",
   "metadata": {},
   "outputs": [],
   "source": []
  },
  {
   "cell_type": "code",
   "execution_count": null,
   "id": "3f3e383a",
   "metadata": {},
   "outputs": [],
   "source": []
  },
  {
   "cell_type": "code",
   "execution_count": null,
   "id": "3607e508",
   "metadata": {},
   "outputs": [],
   "source": []
  },
  {
   "cell_type": "code",
   "execution_count": null,
   "id": "dcfeefe4",
   "metadata": {},
   "outputs": [],
   "source": []
  },
  {
   "cell_type": "code",
   "execution_count": null,
   "id": "ca7628f9",
   "metadata": {},
   "outputs": [],
   "source": []
  },
  {
   "cell_type": "code",
   "execution_count": null,
   "id": "afb11a73",
   "metadata": {},
   "outputs": [],
   "source": []
  },
  {
   "cell_type": "code",
   "execution_count": null,
   "id": "5fc72feb",
   "metadata": {},
   "outputs": [],
   "source": []
  },
  {
   "cell_type": "code",
   "execution_count": null,
   "id": "92d7ad9d",
   "metadata": {},
   "outputs": [],
   "source": []
  },
  {
   "cell_type": "code",
   "execution_count": null,
   "id": "d452ef6f",
   "metadata": {},
   "outputs": [],
   "source": []
  },
  {
   "cell_type": "code",
   "execution_count": null,
   "id": "6e513106",
   "metadata": {},
   "outputs": [],
   "source": []
  },
  {
   "cell_type": "code",
   "execution_count": null,
   "id": "4cd1a438",
   "metadata": {},
   "outputs": [],
   "source": []
  },
  {
   "cell_type": "code",
   "execution_count": null,
   "id": "94f159a6",
   "metadata": {},
   "outputs": [],
   "source": []
  },
  {
   "cell_type": "code",
   "execution_count": null,
   "id": "567e112b",
   "metadata": {},
   "outputs": [],
   "source": []
  },
  {
   "cell_type": "code",
   "execution_count": null,
   "id": "6685855d",
   "metadata": {},
   "outputs": [],
   "source": []
  },
  {
   "cell_type": "code",
   "execution_count": null,
   "id": "f740d14d",
   "metadata": {},
   "outputs": [],
   "source": []
  },
  {
   "cell_type": "code",
   "execution_count": null,
   "id": "525cadb5",
   "metadata": {},
   "outputs": [],
   "source": []
  },
  {
   "cell_type": "code",
   "execution_count": null,
   "id": "e9206774",
   "metadata": {},
   "outputs": [],
   "source": []
  },
  {
   "cell_type": "code",
   "execution_count": null,
   "id": "065c053f",
   "metadata": {},
   "outputs": [],
   "source": []
  },
  {
   "cell_type": "code",
   "execution_count": null,
   "id": "943c265c",
   "metadata": {},
   "outputs": [],
   "source": []
  },
  {
   "cell_type": "code",
   "execution_count": null,
   "id": "20be9684",
   "metadata": {},
   "outputs": [],
   "source": []
  },
  {
   "cell_type": "code",
   "execution_count": null,
   "id": "3606348b",
   "metadata": {},
   "outputs": [],
   "source": []
  },
  {
   "cell_type": "code",
   "execution_count": null,
   "id": "bd93909d",
   "metadata": {},
   "outputs": [],
   "source": []
  },
  {
   "cell_type": "code",
   "execution_count": null,
   "id": "ab29bd6e",
   "metadata": {},
   "outputs": [],
   "source": []
  },
  {
   "cell_type": "code",
   "execution_count": null,
   "id": "a8d47d6f",
   "metadata": {},
   "outputs": [],
   "source": []
  },
  {
   "cell_type": "code",
   "execution_count": null,
   "id": "2805a280",
   "metadata": {},
   "outputs": [],
   "source": []
  },
  {
   "cell_type": "code",
   "execution_count": null,
   "id": "26d241bf",
   "metadata": {},
   "outputs": [],
   "source": []
  },
  {
   "cell_type": "code",
   "execution_count": null,
   "id": "5df147fb",
   "metadata": {},
   "outputs": [],
   "source": []
  },
  {
   "cell_type": "code",
   "execution_count": null,
   "id": "72b11dc7",
   "metadata": {},
   "outputs": [],
   "source": []
  },
  {
   "cell_type": "code",
   "execution_count": null,
   "id": "0f16dc6c",
   "metadata": {},
   "outputs": [],
   "source": []
  }
 ],
 "metadata": {
  "kernelspec": {
   "display_name": "Python 3 (ipykernel)",
   "language": "python",
   "name": "python3"
  },
  "language_info": {
   "codemirror_mode": {
    "name": "ipython",
    "version": 3
   },
   "file_extension": ".py",
   "mimetype": "text/x-python",
   "name": "python",
   "nbconvert_exporter": "python",
   "pygments_lexer": "ipython3",
   "version": "3.9.7"
  }
 },
 "nbformat": 4,
 "nbformat_minor": 5
}
